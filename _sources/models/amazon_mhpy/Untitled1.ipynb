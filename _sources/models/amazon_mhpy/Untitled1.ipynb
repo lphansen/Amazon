{
 "cells": [
  {
   "cell_type": "code",
   "execution_count": 1,
   "id": "6fc47f76-6c22-47ff-9856-f11255528a0e",
   "metadata": {},
   "outputs": [],
   "source": [
    "from pylab import *\n",
    "from casadi import *\n",
    "import time\n",
    "# Required packages\n",
    "import numpy as np\n",
    "import pandas as pd\n",
    "import matplotlib.pyplot as plt"
   ]
  },
  {
   "cell_type": "code",
   "execution_count": 2,
   "id": "c28dd95b-093b-457f-a3af-e437bb5bec97",
   "metadata": {},
   "outputs": [],
   "source": [
    "normalization = 1e9\n",
    "δ  = 0.02\n",
    "α  = 0.045007414\n",
    "κ  = 2.094215255\n",
    "pe = 5.42\n",
    "ζ  = 1.66e-4 * normalization \n",
    "p2 =  44.75"
   ]
  },
  {
   "cell_type": "code",
   "execution_count": 3,
   "id": "6e771e74-d182-4127-a236-858195e2cf6b",
   "metadata": {},
   "outputs": [],
   "source": [
    "#Site Data\n",
    "df = pd.read_csv(\"data/calibration_globalModel.csv\") # dataset\n",
    "df = df.sort_values(by=['theta_global'])\n",
    "z0_list = df['z_1995_global'].to_numpy() # initial distribution of agriculture\n",
    "γ_list  = np.array([583.5109738331764]) #  distribution of gammas (aka impact of cutting down forests)\n",
    "x0_list = df['x_1995_global'].to_numpy() # initial distribution of carbon absoprtion of the amazon\n",
    "θ_list  = np.array([1.5200911027301107]) #  distribution of the productivity parameters\n",
    "\n",
    "Z0_list = z0_list/ normalization\n",
    "X0_list = x0_list/ normalization\n",
    "\n",
    "z̄ = (df['zbar_2017_global'].to_numpy() )/normalization # distribution of the upper bound of agriculture in each site\n",
    "n = len(z̄) # total number of sites "
   ]
  },
  {
   "cell_type": "code",
   "execution_count": 4,
   "id": "03ca0bf1-a08a-41f6-a825-1f38d7b5181a",
   "metadata": {},
   "outputs": [],
   "source": [
    "#Construct Matrix A\n",
    "Az = np.zeros((n, n+2))\n",
    "Ax = np.zeros((1, n+2-0))\n",
    "\n",
    "Ax[0,0:n-0] = -α *γ_list[0:n]\n",
    "Ax[0, -1] = np.sum(α*γ_list[0:n] * z̄[0:n])\n",
    "Ax[0,-2]  = -α\n",
    "\n",
    "A  = np.concatenate((Az, Ax, np.zeros((1, n+2-0))), axis=0)"
   ]
  },
  {
   "cell_type": "code",
   "execution_count": 5,
   "id": "0576b678-575d-42ff-bb0a-436f319957a8",
   "metadata": {},
   "outputs": [],
   "source": [
    "# Construct Matrix B\n",
    "Bz = np.identity((n-0))\n",
    "Bx = (np.zeros((1,n-0)))\n",
    "\n",
    "B  = np.concatenate((Bz, Bx,  np.zeros((1, n-0))), axis=0)"
   ]
  },
  {
   "cell_type": "code",
   "execution_count": 6,
   "id": "524a0a12-1695-4b8a-b69b-aa508fe2fecf",
   "metadata": {},
   "outputs": [],
   "source": [
    "# Construct Matrix B\n",
    "Dz =   np.zeros((n-0,n-0))\n",
    "Dx = -(np.ones((1,n-0))*γ_list[0:n])\n",
    "\n",
    "D  = np.concatenate((Dz, Dx, np.zeros((1, n-0))), axis=0)"
   ]
  },
  {
   "cell_type": "code",
   "execution_count": 7,
   "id": "ce1af641-805c-4ed9-a308-09faaf5686b6",
   "metadata": {},
   "outputs": [],
   "source": [
    "T   = 200 \n",
    "N   = T \n",
    "\n",
    "dt = T/N\n",
    "Y  = MX.sym('Y',n+2) \n",
    "up = MX.sym('u',n) \n",
    "um = MX.sym('u',n) \n",
    "\n",
    "rhs = sparsify(A)@Y + sparsify(B)@(up-um) + sparsify(D)@(up) + Y\n",
    "F = Function('f', [Y, um, up],[rhs])"
   ]
  },
  {
   "cell_type": "code",
   "execution_count": 8,
   "id": "8d232835-878f-4526-9fa3-7d6ca9e949d2",
   "metadata": {},
   "outputs": [],
   "source": [
    "\n",
    "import math\n",
    "ds_vect = np.zeros((N+1,1))\n",
    "for i in range(N+1):\n",
    "    ds_vect[i]=math.exp(-δ*i*dt)\n",
    "    \n",
    "pe_arrange = np.linspace(0,10,100)"
   ]
  },
  {
   "cell_type": "code",
   "execution_count": 9,
   "id": "55f3edcf-388b-4821-9cc2-4f2abf66e617",
   "metadata": {},
   "outputs": [
    {
     "name": "stdout",
     "output_type": "stream",
     "text": [
      "\n",
      "******************************************************************************\n",
      "This program contains Ipopt, a library for large-scale nonlinear optimization.\n",
      " Ipopt is released as open source code under the Eclipse Public License (EPL).\n",
      "         For more information visit https://github.com/coin-or/Ipopt\n",
      "******************************************************************************\n",
      "\n",
      "Initial, time: 0.38709378242492676\n",
      "Initial, time: 0.3850061893463135\n",
      "Initial, time: 0.3926200866699219\n",
      "Initial, time: 0.3252749443054199\n",
      "Initial, time: 0.2930030822753906\n",
      "Initial, time: 0.30234718322753906\n",
      "Initial, time: 0.3380551338195801\n",
      "Initial, time: 0.41382598876953125\n",
      "Initial, time: 0.3388059139251709\n",
      "Initial, time: 0.4168708324432373\n",
      "Initial, time: 0.3882460594177246\n",
      "Initial, time: 0.4035191535949707\n",
      "Initial, time: 0.385009765625\n",
      "Initial, time: 0.35535287857055664\n",
      "Initial, time: 0.41730809211730957\n",
      "Initial, time: 0.3763272762298584\n",
      "Initial, time: 0.46543002128601074\n",
      "Initial, time: 0.40770506858825684\n",
      "Initial, time: 0.5283119678497314\n",
      "Initial, time: 0.4780459403991699\n",
      "Initial, time: 0.44687581062316895\n",
      "Initial, time: 0.3958559036254883\n",
      "Initial, time: 0.3957231044769287\n",
      "Initial, time: 0.3807690143585205\n",
      "Initial, time: 0.38557910919189453\n",
      "Initial, time: 0.38947105407714844\n",
      "Initial, time: 0.39294910430908203\n",
      "Initial, time: 0.3692750930786133\n",
      "Initial, time: 0.34334588050842285\n",
      "Initial, time: 0.3203849792480469\n",
      "Initial, time: 0.3349440097808838\n",
      "Initial, time: 0.32660579681396484\n",
      "Initial, time: 0.32669901847839355\n",
      "Initial, time: 0.3542780876159668\n",
      "Initial, time: 0.35123300552368164\n",
      "Initial, time: 0.3504669666290283\n",
      "Initial, time: 0.3550729751586914\n",
      "Initial, time: 0.3657388687133789\n",
      "Initial, time: 0.4084360599517822\n",
      "Initial, time: 0.3224759101867676\n",
      "Initial, time: 0.35587191581726074\n",
      "Initial, time: 0.3327140808105469\n",
      "Initial, time: 0.3766052722930908\n",
      "Initial, time: 0.4153578281402588\n",
      "Initial, time: 0.4321610927581787\n",
      "Initial, time: 0.4192378520965576\n",
      "Initial, time: 0.434938907623291\n",
      "Initial, time: 0.4652271270751953\n",
      "Initial, time: 0.42203378677368164\n",
      "Initial, time: 0.4444432258605957\n",
      "Initial, time: 0.4305241107940674\n",
      "Initial, time: 0.34736204147338867\n",
      "Initial, time: 0.36170482635498047\n",
      "Initial, time: 0.36594605445861816\n",
      "Initial, time: 0.37350988388061523\n",
      "Initial, time: 0.38393306732177734\n",
      "Initial, time: 0.3712120056152344\n",
      "Initial, time: 0.3729979991912842\n",
      "Initial, time: 0.36563825607299805\n",
      "Initial, time: 0.3628661632537842\n",
      "Initial, time: 0.366192102432251\n",
      "Initial, time: 0.3694489002227783\n",
      "Initial, time: 0.43250298500061035\n",
      "Initial, time: 0.46120381355285645\n",
      "Initial, time: 0.46169185638427734\n",
      "Initial, time: 0.4630608558654785\n",
      "Initial, time: 0.4445950984954834\n",
      "Initial, time: 0.479201078414917\n",
      "Initial, time: 0.42266297340393066\n",
      "Initial, time: 0.45229291915893555\n",
      "Initial, time: 0.435319185256958\n",
      "Initial, time: 0.40794992446899414\n",
      "Initial, time: 0.5407419204711914\n",
      "Initial, time: 0.5788538455963135\n",
      "Initial, time: 0.7396900653839111\n",
      "Initial, time: 0.6116421222686768\n",
      "Initial, time: 0.6073970794677734\n",
      "Initial, time: 0.6480419635772705\n",
      "Initial, time: 0.6175839900970459\n",
      "Initial, time: 0.6929090023040771\n",
      "Initial, time: 0.6506149768829346\n",
      "Initial, time: 0.6565420627593994\n",
      "Initial, time: 0.7403769493103027\n",
      "Initial, time: 0.8574051856994629\n",
      "Initial, time: 0.6264128684997559\n",
      "Initial, time: 0.5860850811004639\n",
      "Initial, time: 0.6432671546936035\n",
      "Initial, time: 0.624885082244873\n",
      "Initial, time: 0.6388652324676514\n",
      "Initial, time: 0.6157617568969727\n",
      "Initial, time: 0.44295191764831543\n",
      "Initial, time: 0.5172269344329834\n",
      "Initial, time: 0.5823171138763428\n",
      "Initial, time: 0.5167622566223145\n",
      "Initial, time: 0.5866751670837402\n",
      "Initial, time: 0.6581439971923828\n",
      "Initial, time: 0.537524938583374\n",
      "Initial, time: 0.5417020320892334\n",
      "Initial, time: 0.5585789680480957\n",
      "Initial, time: 0.6265871524810791\n"
     ]
    }
   ],
   "source": [
    "end_z = np.zeros((100,1))\n",
    "for i in range(len(pe_arrange)):\n",
    "    opti = casadi.Opti()\n",
    "\n",
    "    # Decision variables for states\n",
    "\n",
    "    X = opti.variable(n+2-0 ,N+1)\n",
    "    # Aliases for states\n",
    "\n",
    "    Up = opti.variable(n-0,N)\n",
    "    Um = opti.variable(n-0,N)\n",
    "    Ua = opti.variable(1,N)\n",
    "    # 1.2: Parameter for initial state\n",
    "    ic = opti.parameter(n+2-0)\n",
    "\n",
    "    # Gap-closing shooting constraints\n",
    "    for k in range(N):\n",
    "        opti.subject_to(X[:,k+1]==F(X[:,k],Um[:,k], Up[:,k]))\n",
    "\n",
    "    # Initial and terminal constraints\n",
    "    opti.subject_to(X[:,0] == ic)\n",
    "    opti.subject_to(opti.bounded(0,X[0:n-0,:],z̄[0:n]))\n",
    "    # Objective: regularization of controls\n",
    "    # 1.1: added regularization\n",
    "    for k in range(n-0):\n",
    "        opti.subject_to(opti.bounded(0,Um[k,:],inf))\n",
    "        opti.subject_to(opti.bounded(0,Up[k,:],inf))\n",
    "\n",
    "    opti.subject_to(Ua == sum1(Up+Um)**2 )\n",
    "\n",
    "    opti.minimize( sum2(ds_vect[0:N,:].T*(Ua* ζ/2 ))\n",
    "                  - sum2(ds_vect[0:N,:].T*(pe_arrange[i]*X[-2,1:] - pe_arrange[i]*X[-2,0:-1]  ))\n",
    "                  - sum2(ds_vect.T*sum1((p2*θ_list - pe_arrange[i]*κ )*X[0:n-0,:] )))\n",
    "    # solve optimization problem \n",
    "    options = dict()\n",
    "    options[\"print_time\"] = False\n",
    "    options[\"expand\"]     = True\n",
    "    options[\"ipopt\"]      = {\n",
    "                        'print_level': 0,\n",
    "                        'fast_step_computation':            'yes',\n",
    "                        'mu_allow_fast_monotone_decrease':  'yes',\n",
    "                        'warm_start_init_point':            'yes',\n",
    "                            }\n",
    "    opti.solver('ipopt',options)\n",
    "\n",
    "    t1 = time.time()\n",
    "    opti.set_value(ic,vertcat(Z0_list,np.sum(X0_list),1))\n",
    "    sol = opti.solve()\n",
    "    disp(f'Initial, time: {time.time()-t1}')\n",
    "    end_z[i] = sol.value(X)[0,11]\n"
   ]
  },
  {
   "cell_type": "code",
   "execution_count": 19,
   "id": "b10ce244-9ea9-4c93-8b3e-e8c4368be632",
   "metadata": {},
   "outputs": [
    {
     "data": {
      "text/plain": [
       "array([-0.02950455])"
      ]
     },
     "execution_count": 19,
     "metadata": {},
     "output_type": "execute_result"
    }
   ],
   "source": [
    "((end_z*normalization- df['z_2017_global'].to_numpy())/df['z_2017_global'].to_numpy())[42]"
   ]
  },
  {
   "cell_type": "code",
   "execution_count": 20,
   "id": "5657f623-2074-4ae2-9da7-e4752d07835d",
   "metadata": {},
   "outputs": [
    {
     "data": {
      "text/plain": [
       "4.242424242424242"
      ]
     },
     "execution_count": 20,
     "metadata": {},
     "output_type": "execute_result"
    }
   ],
   "source": [
    "pe_arrange[42]"
   ]
  },
  {
   "cell_type": "code",
   "execution_count": null,
   "id": "e97a9082-258b-432b-8fce-1153cc071da0",
   "metadata": {},
   "outputs": [],
   "source": []
  }
 ],
 "metadata": {
  "kernelspec": {
   "display_name": "Python 3 (ipykernel)",
   "language": "python",
   "name": "python3"
  },
  "language_info": {
   "codemirror_mode": {
    "name": "ipython",
    "version": 3
   },
   "file_extension": ".py",
   "mimetype": "text/x-python",
   "name": "python",
   "nbconvert_exporter": "python",
   "pygments_lexer": "ipython3",
   "version": "3.10.9"
  }
 },
 "nbformat": 4,
 "nbformat_minor": 5
}
