{
 "cells": [
  {
   "cell_type": "markdown",
   "metadata": {
    "id": "U0l9nOAAUJgf"
   },
   "source": [
    "# Carbon prices and forest preservation over space and time in the Brazilian Amazon\n"
   ]
  },
  {
   "cell_type": "code",
   "execution_count": 1,
   "metadata": {
    "colab": {
     "base_uri": "https://localhost:8080/"
    },
    "id": "cP2ZDFAIJlDr",
    "outputId": "daf33a69-c6d7-4d1d-8364-445a7ca3e540"
   },
   "outputs": [
    {
     "name": "stdout",
     "output_type": "stream",
     "text": [
      "Defaulting to user installation because normal site-packages is not writeable\r\n"
     ]
    },
    {
     "name": "stdout",
     "output_type": "stream",
     "text": [
      "Requirement already satisfied: casadi in /home/pengyu/.local/lib/python3.9/site-packages (3.6.3)\r\n",
      "Requirement already satisfied: numpy in /home/pengyu/.local/lib/python3.9/site-packages (from casadi) (1.25.2)\r\n"
     ]
    },
    {
     "name": "stdout",
     "output_type": "stream",
     "text": [
      "\r\n",
      "\u001b[1m[\u001b[0m\u001b[34;49mnotice\u001b[0m\u001b[1;39;49m]\u001b[0m\u001b[39;49m A new release of pip is available: \u001b[0m\u001b[31;49m23.0\u001b[0m\u001b[39;49m -> \u001b[0m\u001b[32;49m23.3.2\u001b[0m\r\n",
      "\u001b[1m[\u001b[0m\u001b[34;49mnotice\u001b[0m\u001b[1;39;49m]\u001b[0m\u001b[39;49m To update, run: \u001b[0m\u001b[32;49mpip install --upgrade pip\u001b[0m\r\n"
     ]
    },
    {
     "name": "stdout",
     "output_type": "stream",
     "text": [
      "fatal: destination path 'amazon_mhpy' already exists and is not an empty directory.\r\n"
     ]
    }
   ],
   "source": [
    "# Required packages\n",
    "import numpy as np\n",
    "import pandas as pd\n",
    "import matplotlib.pyplot as plt\n",
    "from pylab import *\n",
    "!pip install casadi\n",
    "from casadi import *\n",
    "from scipy.linalg import logm, expm\n",
    "from IPython.display import display, Markdown\n",
    "import time\n",
    "import math\n",
    "import itertools\n",
    "import os\n",
    "import sys\n",
    "!git clone https://github.com/Finalblue777/amazon_mhpy\n",
    "workdir = os.getcwd() + '/amazon_mhpy/'\n",
    "sys.path.insert(0, workdir)\n"
   ]
  },
  {
   "cell_type": "markdown",
   "metadata": {
    "id": "9uL6pB-UKU4K"
   },
   "source": [
    "# 1 Model\n",
    "---\n",
    "## 1.1 State Variable\n",
    "Let us begin with a definition of the important state vectors\n",
    "\\begin{array}{llll}\n",
    "Z_t &  := & (Z_t^1, Z_t^2, ..., Z_t^I) & \\textrm{ vector of area used for agriculture expressed in hectares} \\cr\n",
    "X_t & := & (X_t^1, X_t^2, ..., X_t^I) & \\textrm{ vector of carbon captured expressed in Mg CO2e (CO2 equivalent)  } \\cr\n",
    "A_t & := & (A_t^1, A_t^2, ..., A_t^I) & \\textrm{ vector of agricultural output}\n",
    "\\end{array}\n",
    "where\n",
    "$$\n",
    "0 \\le Z_t^i \\le {\\bar z}_i\n",
    "$$\n",
    "and define\n",
    "$$\n",
    "\\tilde X_t = \\sum_i^I X_t^i\n",
    "$$"
   ]
  },
  {
   "cell_type": "code",
   "execution_count": 2,
   "metadata": {
    "id": "RtpW1nXaKS-P"
   },
   "outputs": [],
   "source": [
    "#Site Data\n",
    "# Read data file\n",
    "n='global'\n",
    "file=workdir + f\"data/calibration_{n}Model.csv\"\n",
    "df = pd.read_csv(file)\n",
    "df = df.sort_values(by=[f'theta_{n}'])\n",
    "\n",
    "z0_list = df[f'z_2017_{n}'].to_numpy() # initial distribution of agriculture\n",
    "γ_list  = df[f'gamma_{n}'].to_numpy()  #  the amount of carbon (aka impact of cutting down forests)\n",
    "x0_list = γ_list * (df[f'forestArea_2017_ha_{n}'].to_numpy())# initial distribution of carbon absoprtion of the amazon\n",
    "θ_list  = df[f'theta_{n}'].to_numpy() #  distribution of the productivity parameters\n",
    "\n",
    "# Parameter values\n",
    "normalization_value = 1e9 # normalization value\n",
    "α = 0.045007414 # mean-reverting coefficient\n",
    "\n",
    "Z0_list = z0_list/ normalization_value\n",
    "X0_list = x0_list/ normalization_value\n",
    "\n",
    "z̄ = (df[f'zbar_2017_{n}'].to_numpy() )/normalization_value # distribution of the upper bound of agriculture in each site\n",
    "n = len(z̄) # total number of sites"
   ]
  },
  {
   "cell_type": "markdown",
   "metadata": {
    "id": "lV3vOSmNL_T-"
   },
   "source": [
    "Let us define the state variable vector\n",
    "\n",
    "$$\n",
    "Y_t = \\begin{bmatrix}\n",
    "Z^1_t\\\\\n",
    "Z^2_t\\\\\n",
    "\\vdots\\\\\n",
    "Z^I_t\\\\\n",
    "\\tilde X_t\\\\\n",
    "1\n",
    "\\end{bmatrix}\n",
    "$$\n",
    "\n",
    "where we have the following laws of motion\n",
    "\n",
    "$$\n",
    "\\begin{equation}\n",
    "\\begin{aligned}\n",
    "\\dot{X}_t^i&=-\\gamma^i U_t^i-\\alpha\\left[X_t^i-\\gamma^i\\left(\\bar{z}^i-Z_t^i\\right)\\right]\\\\\n",
    "&=-\\gamma^i U_t^i-\\alpha X_t^i+\\alpha\\gamma^i\\bar{z}^i-\\alpha\\gamma^i Z_t^i\n",
    "\\end{aligned}\n",
    "\\end{equation}\\tag{1}\n",
    "$$\n",
    "\n",
    "$$\n",
    "\\dot Z_t^i = U_t^i - V_t^i \\tag{2}\n",
    "$$\n",
    "\n",
    "where $U_t^i \\geq 0$ and $V_t^i \\geq 0$ are controls and it is useful to define\n",
    "\n",
    "$$\n",
    "U_t^i :=(U_t^1, U_t^2, ..., U_t^I)  \\textrm{ vector increases in agriculture}\n",
    "$$\n",
    "**The site-specific parameter $γ^i \\geq 0$ denotes\n",
    "the density of CO2e that is present in a primary forest in site $i$.**\n",
    "\n",
    "We can rewrite the law of motion into the following\n",
    "$$\n",
    "\\dot Y_t = A Y_t + B \\dot Z_t +D U_t\n",
    "$$\n",
    "The codes define the matrices $A$, $B$ and $D$ below\n",
    "\n",
    "$$\n",
    "A := \\begin{bmatrix}\n",
    "0 & 0 & 0 & \\dots & 0 & 0  & 0\\\\\n",
    "\\vdots &\\vdots &\\vdots &\\vdots &\\vdots  &\\vdots  &\\vdots\\\\\n",
    "0 & 0 & 0 & \\dots & 0 & 0 & 0\\\\\n",
    "-\\alpha \\gamma^1 & -\\alpha \\gamma^2 & -\\alpha \\gamma^3 & \\dots & -\\alpha \\gamma^I & -\\alpha  & \\alpha \\sum_i \\gamma^i \\bar z^i\\\\\n",
    "0 & 0 & 0 & \\dots & 0 & 0  & 0\n",
    "\\end{bmatrix}\n",
    "$$"
   ]
  },
  {
   "cell_type": "code",
   "execution_count": 3,
   "metadata": {
    "id": "nvpxkNmDL65x"
   },
   "outputs": [],
   "source": [
    "#Construct Matrix A\n",
    "Az = np.zeros((n, n+2))\n",
    "\n",
    "Ax = np.zeros((1, n+2-0))\n",
    "Ax[0,0:n-0] = -α *γ_list[0:n]\n",
    "Ax[0, -1] = np.sum(α*γ_list[0:n] * z̄[0:n])\n",
    "Ax[0,-2]  = -α\n",
    "\n",
    "A  = np.concatenate((Az, Ax, np.zeros((1, n+2-0))), axis=0)"
   ]
  },
  {
   "cell_type": "markdown",
   "metadata": {
    "id": "pRRMrEdxMGEl"
   },
   "source": [
    "The code below define the matrix of $B$, which is the following\n",
    "\n",
    "$$\n",
    "B = \\begin{bmatrix}\n",
    "1 & 0 & 0 & \\dots & 0 & 0 & 0\\\\\n",
    "\\vdots &\\vdots &\\vdots &\\vdots &\\vdots &\\vdots &\\vdots\\\\\n",
    "0 & 0 & 0 & \\dots & 0 & 0 & 1\\\\\n",
    "0 & 0 & 0 & \\dots & 0 & 0 & 0\\\\\n",
    "0 & 0 & 0 & \\dots & 0 & 0 & 0\\\\\n",
    "0 & 0 & 0 & \\dots & 0 & 0 & 0\n",
    "\\end{bmatrix}\n",
    "$$"
   ]
  },
  {
   "cell_type": "code",
   "execution_count": 4,
   "metadata": {
    "id": "AcXHEqSNMEV3"
   },
   "outputs": [],
   "source": [
    "# Construct Matrix B\n",
    "Bz = np.identity((n-0))\n",
    "Bx = (np.zeros((1,n-0)))\n",
    "\n",
    "B  = np.concatenate((Bz, Bx,  np.zeros((1, n-0))), axis=0)"
   ]
  },
  {
   "cell_type": "markdown",
   "metadata": {
    "id": "efIzNzAgMJA1"
   },
   "source": [
    "The code below defines the matrix of $D$, which si the following\n",
    "$$\n",
    "D := \\begin{bmatrix}\n",
    "0 & 0 & 0 & \\dots & 0 & 0 & 0\\\\\n",
    "\\vdots &\\vdots &\\vdots &\\vdots &\\vdots &\\vdots &\\vdots\\\\\n",
    "0 & 0 & 0 & \\dots & 0 & 0 & 0\\\\\n",
    "-\\gamma_1 & -\\gamma_2 & -\\gamma_3 & \\dots & -\\gamma_{I-2} & -\\gamma_{I-1} & -\\gamma_{I}\\\\\n",
    "0 & 0 & 0 & \\dots & 0 & 0 & 0\n",
    "\\end{bmatrix}\n",
    "$$"
   ]
  },
  {
   "cell_type": "code",
   "execution_count": 5,
   "metadata": {
    "id": "h9MakOOjMHNE"
   },
   "outputs": [],
   "source": [
    "# Construct Matrix B\n",
    "Dz =   np.zeros((n-0,n-0))\n",
    "Dx = -(np.ones((1,n-0))*γ_list[0:n])\n",
    "\n",
    "D  = np.concatenate((Dz, Dx, np.zeros((1, n-0))), axis=0)"
   ]
  },
  {
   "cell_type": "markdown",
   "metadata": {
    "id": "2Bu-VZGuML-I"
   },
   "source": [
    "Below defines the discretize law of motion, we discretize in the following way\n",
    "\n",
    "$$\n",
    "\\dot Y_t = A Y_t + B \\dot Z_t +D U_t \\implies Y_{t+dt} = \\left(A Y_t + B \\dot Z_t + D U_t \\right)dt+ Y_t\n",
    "$$"
   ]
  },
  {
   "cell_type": "code",
   "execution_count": 6,
   "metadata": {
    "id": "vGSztTbPMKLF"
   },
   "outputs": [],
   "source": [
    "y  = MX.sym('Y',n+2) # state\n",
    "u = MX.sym('u',n) # positive control\n",
    "v = MX.sym('u',n) # negative control\n",
    "\n",
    "rhs = sparsify(A)@ y + sparsify(B)@(u-v) + sparsify(D)@(u) + y # dynamics\n",
    "F = Function('f', [y, v, u],[rhs]) # dynamics function"
   ]
  },
  {
   "cell_type": "markdown",
   "metadata": {
    "id": "qOYhmXDYSFao"
   },
   "source": [
    "## 1.2 Objective Function\n",
    "We define the cattle output as\n",
    "$A_t^i=\\theta^i Z_t^i$.\n",
    "where **$θ_i$ is a site-specific productivity parameter**.\n",
    "\n",
    "All of the locations contribute to emissions via the capture of carbon and emissions that result because of agricultural activity with a net impact given by\n",
    "$$\n",
    "\\kappa \\sum_{i=1}^I Z_t^i-\\sum_{i=1}^I \\dot{X}_t^i\n",
    "$$\n",
    "where the parameter $\\kappa$ captures the emissions that result because of cattle farming. We include a cost of adjustment to changes in the use of land with contributions from each site. It is measured by\n",
    "$$\n",
    "\\frac{\\zeta}{2}\\left[\\sum_i^i\\left(U_t^i+V_t^i\\right)\\right]^2\n",
    "$$\n",
    "\n",
    "Since many carbon trading schemes are based on emissions, we assume that the planner takes as given a price for carbon emissions $P^e$, the initial price for agriculture and the Markov process that describes the future evolution of the price $P_t^a$ for cattle and maximizes\n",
    "$$\n",
    "\\mathbb{E}\\left\\{\\int_0^{\\infty} \\exp (-\\delta t)\\left[-P^e\\left(\\kappa \\sum_{i=1}^I Z_t^i-\\sum_{i=1}^I \\dot{X}_t^i\\right)+P_t^a \\sum_i \\theta^i Z_t^i-\\frac{\\zeta}{2}\\left[\\sum_i^i\\left(U_t^i+V_t^i\\right)\\right]^2\\right] d t\\right\\}\n",
    "$$\n",
    "subject to equations (1)-(2), and the control restrictions:\n",
    "$$\n",
    "U_t^i \\geqslant 0, \\quad V_t^i \\geqslant 0 \\quad t \\geqslant 0 .\n",
    "$$\n",
    "where $\\delta$ is the subjective discount rate. The emission price $P^e$ considered by the planner would be the sum of the (constant) marginal value attributed by the planner to emission and any monetary transfers obtained from others, such as sales in carbon emission markets. In future work we intend to make $P^e$ a state variable.\n",
    "\n",
    "For simplicity, we take $P^e$ to be independent of calendar time."
   ]
  },
  {
   "cell_type": "markdown",
   "metadata": {
    "id": "fU1DKr5DU9hX"
   },
   "source": [
    "## 1.3 Calibration"
   ]
  },
  {
   "cell_type": "code",
   "execution_count": 7,
   "metadata": {
    "colab": {
     "base_uri": "https://localhost:8080/",
     "height": 309
    },
    "id": "0CQRvL8nUC3J",
    "outputId": "9833546f-1949-4a38-cc29-558b5ed913f4"
   },
   "outputs": [
    {
     "data": {
      "text/markdown": [
       "| Parameter | Explaination|Value |\n",
       "|---|---|---|\n",
       "|  | normalization | 1000000000.0 |\n",
       "| δ | discount rate | 0.02 |\n",
       "| α | mean-reversion coefficient | 0.045007414 |\n",
       "| κ | emission rate | 2.094215255 |\n",
       "| $P^e$ | price of emission | 0 |\n",
       "| ζ | adjustment cost | 166000.0 |\n",
       "| $P^a_1$ | low price of agriculture | 38.29988757 |\n",
       "| $P^a_2$ | high price of agriculture | 44.75876047 |\n"
      ],
      "text/plain": [
       "<IPython.core.display.Markdown object>"
      ]
     },
     "metadata": {},
     "output_type": "display_data"
    }
   ],
   "source": [
    "# Parameter values\n",
    "normalization_value = normalization_value\n",
    "δ = 0.02\n",
    "α = α\n",
    "κ = 2.094215255\n",
    "Pe = 0\n",
    "ζ = 1.66e-4 * normalization_value\n",
    "Pa_1 = 38.29988757\n",
    "Pa_2 = 44.75876047\n",
    "\n",
    "# Parameters\n",
    "parameters = [\n",
    "    (\"\",\"normalization\", normalization_value),\n",
    "    (\"δ\",\"discount rate\", δ),\n",
    "    (\"α\", \"mean-reversion coefficient\",α),\n",
    "    (\"κ\", \"emission rate\", κ),\n",
    "    (\"$P^e$\", \"price of emission\", Pe),\n",
    "    (\"ζ\", \"adjustment cost\",ζ),\n",
    "    (\"$P^a_1$\", \"low price of agriculture\",Pa_1),\n",
    "    (\"$P^a_2$\", \"high price of agriculture\",Pa_2)\n",
    "]\n",
    "\n",
    "\n",
    "# Generate Markdown table\n",
    "markdown_table = \"| Parameter | Explaination|Value |\\n|---|---|---|\\n\"\n",
    "for param, name,value in parameters:\n",
    "    markdown_table += f\"| {param} | {name} | {value} |\\n\"\n",
    "\n",
    "# Display the Markdown table\n",
    "display(Markdown(markdown_table))\n"
   ]
  },
  {
   "cell_type": "markdown",
   "metadata": {
    "id": "8_x5AjEbUuI_"
   },
   "source": [
    "## 1.3 Time and Discounting\n",
    "We define:\n",
    "\n",
    "$T$ to be the time horizon\n",
    "$N$ to be the number of controls\n",
    "$T_u$ to be the stochastic horizon\n",
    "\n",
    "$dt = T/N$ to be the time step\n",
    "\n",
    "Below we also construct a vector of discount rates in the following way\n",
    "\n",
    "\\begin{align*}\n",
    "\\text{discount_vector[i]} = \\exp(-\\delta i \\cdot \\text{{dt}})\n",
    "\\end{align*}"
   ]
  },
  {
   "cell_type": "code",
   "execution_count": 8,
   "metadata": {
    "id": "ShoOFZfNUqwl"
   },
   "outputs": [],
   "source": [
    "T   = 200 # time horizon\n",
    "N   = T # number of control intervals\n",
    "T_u = 5 # stochastic horizon\n",
    "\n",
    "dt = T/N # time step\n",
    "\n",
    "ds_vect = np.zeros((N+1,1))\n",
    "for i in range(N+1):\n",
    "    ds_vect[i]=math.exp(-δ*i*dt)"
   ]
  },
  {
   "cell_type": "markdown",
   "metadata": {
    "id": "x9cYjNzVMO3z"
   },
   "source": [
    "## 1.4 Computation of Price and Probability Matrices with Markov Chain Transitions\n",
    "\n",
    "The provided Python code has the following steps:\n",
    "\n",
    "1. **Transition Matrix and Instantaneous Generator:** It first defines a transition probability matrix `P`, and then calculates an instantaneous generator `M` using the logarithm of the matrix `P` divided by a time step `dτ`. It then calculates `m1` and `m2` as the off-diagonal elements of `M`. Finally, it computes a new transition matrix `P` by taking the matrix exponential of `M` multiplied by a time step `dt`.\n",
    "\n",
    "2. **Markov Array Generation:** The code generates a `Markov array` that contains all possible sequences of 0s and 1s of length `T_u + 1`. This is done using the `itertools.product` function, which computes the Cartesian product of `[0, 1]` repeated `T_u + 1` times.\n",
    "\n",
    "3. **Price Matrix Initialization and Filling:** It initializes a `price matrix` that has the same number of rows as the Markov array and `T+1` columns. The matrix is filled with zeros initially. The first `T_u + 1` columns of the price matrix are filled with the Markov array. The remaining columns are filled with the last column of the Markov array, utilizing NumPy's broadcasting feature.\n",
    "\n",
    "4. **Price Matrix Adjustment:** All zeros in the price matrix are replaced with the value `p1`, and all ones are replaced with `p2`.\n",
    "\n",
    "5. **Probability Matrix Initialization and Calculation:** A `probability matrix` is initialized with the same number of rows as the Markov array and one column. For each row of the Markov array, the code computes a probability that corresponds to the sequence of 0s and 1s in that row. This probability is calculated as the product of transition probabilities from the `P` matrix for each pair of adjacent elements in the sequence. The computed probability is stored in the corresponding row of the probability matrix.\n",
    "\n",
    "The `P` matrix is now a 2x2 NumPy array where `P[i, j]` is the transition probability from state i to state j. The script uses the zip function to pair each element of the sequence with its next neighbor, representing state transitions, and calculates the product of the corresponding transition probabilities using the numpy.prod function.\n",
    "\n",
    "This code makes use of NumPy's built-in array operations for efficiency and minimizes the use of Python loops. However, it might be slow if `T_u + 1` is large due to the exponential increase in the number of unique sequences with `T_u + 1`.\n"
   ]
  },
  {
   "cell_type": "code",
   "execution_count": 9,
   "metadata": {
    "id": "iLWqvZ0XMNQB"
   },
   "outputs": [],
   "source": [
    "# Step 1: Formalize transition matrix and instantenous generator\n",
    "dτ = 1/12  # time step\n",
    "P = np.matrix([[0.982758621, 0.017241379],[0.012578616, 0.987421384]])  #probability transition matrix\n",
    "M = logm(P)/dτ  # instantenous generator\n",
    "m1 = M[0,1]\n",
    "m2 = M[1,0]\n",
    "\n",
    "P = expm(M*dt)  # Updated Probability transition matrix\n",
    "\n",
    "# Step 2: Generate markov array\n",
    "markov_array = np.array(list(itertools.product([0, 1], repeat=T_u+1)))\n",
    "\n",
    "# Step 3: Price matrix initialization and filling\n",
    "price_matrix = np.zeros((len(markov_array),T+1))\n",
    "price_matrix[:, 0:T_u+1] = markov_array                  # Uncertainty horizon\n",
    "price_matrix[:,T_u+1:] = markov_array[:,-1, np.newaxis]  # Broadcasting to determinstic horizon\n",
    "\n",
    "# Step 4: Price matrix adjustment\n",
    "price_matrix[price_matrix==0] = Pa_1\n",
    "price_matrix[price_matrix==1] = Pa_2\n",
    "\n",
    "# Step 5: Probability matrix initialization and filling\n",
    "prob_matrix = np.zeros((2**(T_u+1),1))\n",
    "P = np.array([[P[0,0], P[0,1]], [P[1,0], P[1,1]]])\n",
    "for i, row in enumerate(markov_array):\n",
    "    # The zip function pairs adjacent elements together\n",
    "    transitions = zip(row[:-1], row[1:])\n",
    "    prob_temp = np.prod([P[x, y] for x, y in transitions])\n",
    "    prob_matrix[i] = prob_temp # Note that the sum of prob_matrix would be 2, because we consider two cases for the initial price"
   ]
  },
  {
   "cell_type": "markdown",
   "metadata": {
    "id": "T3it8ntDXkE7"
   },
   "source": [
    "# 2 Finite Horizon Optimization\n",
    "---\n",
    "\n",
    "## 2.1 Function `state_constructor(opti, T_u)`\n",
    "This function sets up and constructs decision variables and constraints for an optimization problem.\n",
    "\n",
    "### Parameters\n",
    "- `opti`: An instance of an optimization problem.\n",
    "- `T_u`: A parameter used to define the range of our loops in the function.\n",
    "\n",
    "### Steps\n",
    "\n",
    "1. **Initialization of Variables**: Four empty lists `V`, `U`, `ZO`, and `Y` are initialized. These lists will be used to store decision variables for the states, where\n",
    "$$ZO = \\left[\\sum_i (U_t^i+V_t^i)\\right]^2$$\n",
    "\n",
    "2. **Variables Definition**: A loop runs `2**T_u` times. In each iteration, it adds new variables to each of the lists.\n",
    "\n",
    "3. **Constraints Definition**: The function then defines a set of constraints. These constraints forces the (k+1)th column of the ith Y variable to be equal to the output of the function `F`, applied to the kth column of the ith Y, V, and U variables. Then, each ZO variable equals the square of the sum of the corresponding U and V variables. A parameter `ic` is also defined and used to set another constraint where the first column of each Y variable equals to `ic`.\n",
    "\n",
    "4. **Applying Constraints**: Finally, the function applies constraints on each decision variable. These constraints ensure that the first `n` rows of the `ith` Y variable and all rows of the `ith` V and U variables are greater than or equal to `0`, and less than or equal to `z̄` (for Y) or infinity (for V and U).\n",
    "\n",
    "5. **Return Statement**: The function ends by returning all decision variables and the parameter `ic`.\n",
    "\n"
   ]
  },
  {
   "cell_type": "code",
   "execution_count": 10,
   "metadata": {
    "id": "Gp69IXo7XgKo"
   },
   "outputs": [],
   "source": [
    "def state_constructor(opti, T_u):\n",
    "    # This function constructs the decision variables and constraints for an optimization problem.\n",
    "\n",
    "    # Decision variables for states\n",
    "    V = []  # List to store variables V\n",
    "    U = []  # List to store variables U\n",
    "    ZO = []  # List to store variables ZO\n",
    "    Y = []  # List to store variables Y\n",
    "\n",
    "    # The loop runs for 2 to the power of T_u times.\n",
    "    # In each iteration, it adds new variables to the lists V, U, ZO, and Y.\n",
    "    for p in range(2**(T_u)):\n",
    "        U.append(opti.variable(n, N))\n",
    "        V.append(opti.variable(n, N))\n",
    "        ZO.append(opti.variable(1, N))\n",
    "        Y.append(opti.variable(n+2, N+1))\n",
    "\n",
    "    # Loop to define constraints based on function F.\n",
    "    # For each i, for each k, the (k+1)th column of the ith Y variable\n",
    "    # is constrained to be equal to the function F applied to the kth column of the ith Y, V, and U variables.\n",
    "    for i in range(2**(T_u)):\n",
    "        for k in range(N):\n",
    "            opti.subject_to(Y[i][:,k+1] == F(Y[i][:,k], V[i][:,k], U[i][:,k]))\n",
    "\n",
    "    # Constraint: Each ZO variable is equal to the square of the sum of the corresponding U and V variables.\n",
    "    # Sum1 is the sum over the sites (row)\n",
    "    for p in range(2**(T_u)):\n",
    "        opti.subject_to(ZO[p] == sum1(U[p]+V[p])**2 )\n",
    "\n",
    "    # Define a parameter 'ic' with dimension n+2 x 1\n",
    "    ic = opti.parameter(n+2,1)\n",
    "\n",
    "    # Constraint: The first column of each Y variable is equal to the initial condition.\n",
    "    for i in range(2**(T_u)):\n",
    "        opti.subject_to(Y[i][:,0] == ic)\n",
    "\n",
    "    # Bound constraints: For each i, the first n rows of the ith Y variable, and all rows of the ith V and U variables,\n",
    "    # are constrained to be between 0 and z̄ (for Y) or infinity (for V and U).\n",
    "    for i in range(2**(T_u)):\n",
    "        opti.subject_to(opti.bounded(0, Y[i][0:n,:], z̄))\n",
    "        opti.subject_to(opti.bounded(0, V[i], inf))\n",
    "        opti.subject_to(opti.bounded(0, U[i], inf))\n",
    "\n",
    "    # Return all the decision variables and the parameter.\n",
    "    return Y, U, V, ZO, ic\n",
    "\n",
    "opti = casadi.Opti()\n",
    "Y, U,V, ZO, ic  = state_constructor(opti, T_u)"
   ]
  },
  {
   "cell_type": "markdown",
   "metadata": {
    "id": "7nH0BuZGMbvm"
   },
   "source": [
    "## 2.2 Function `objective_constructor(p, prob_matrix, N_u, ZO, Y)`\n",
    "\n",
    "This function constructs the objective function for an optimization problem.\n",
    "\n",
    "### Parameters\n",
    "- `p`: A given price.\n",
    "- `prob_matrix`: A matrix containing the calculated probabilities.\n",
    "- `N_u`: A parameter used to define the length of vectors in the function.\n",
    "- `ZO`: List of decision variables.\n",
    "- `Y`: List of decision variables.\n",
    "\n",
    "$$\n",
    "\\mathbb{E}\\left\\{\\int_0^{\\infty} \\exp (-\\delta t)\\left[\n",
    "\\underbrace{-\\frac{\\zeta}{2}\\left[\\sum_i^i\\left(U_t^i+V_t^i\\right)\\right]^2}_{\\text{term 1}}+\\underbrace{ P^e \\sum_{i=1}^I \\dot{X}_t^i }_{\\text{term 2}}\\underbrace{-P^e \\kappa \\sum_{i=1}^I Z_t^i+P_t^a \\sum_i \\theta^i Z_t^i}_{\\text{term 3}}\\right] d t\\right\\}\n",
    "$$\n",
    "\n",
    "### Steps\n",
    "\n",
    "1. **Initialization**: The function starts by initializing the objective to `0` and a counter `j` to `0`.\n",
    "\n",
    "2. **Pre-calculation**: To optimize the function, some quantities that will be reused in the loop are pre-calculated. This includes a ones matrix of size `(1, 25)` and the transpose of a slice of the `ds_vect` vector.\n",
    "\n",
    "3. **Loop**: The function then enters a loop that iterates `2**T_u` times. In each iteration, it checks if the first element of the `ith` row of `price_matrix` is equal to `p`. If true, it computes several quantities using the `jth` Z and Y variables, multiplies these quantities by the `ith` probability from `prob_matrix`, and adds the result to the objective. After each successful operation, `j` is incremented.\n",
    "\n",
    "4. **Return Statement**: After the loop finishes, the function returns the computed objective.\n"
   ]
  },
  {
   "cell_type": "code",
   "execution_count": 11,
   "metadata": {
    "id": "_OMKCaumMaKV"
   },
   "outputs": [],
   "source": [
    "def objective_constructor(p, prob_matrix, T_u, ZO, Y ) :\n",
    "    objective = 0\n",
    "    j=0\n",
    "\n",
    "    # Sum1 is the sum over the sites (row)\n",
    "    # Sum2 is the sum over the sites (column)\n",
    "    for i in range(2**(T_u+1)):\n",
    "        if price_matrix[i,0] == p:\n",
    "\n",
    "            term_1 = sum2(ds_vect[0:N,:].T*(ZO[j]* ζ/2 ))\n",
    "            term_2 = - sum2(ds_vect[0:N,:].T*(Pe*Y[j][-2,1:] - Pe*Y[j][-2,0:-1]  ))\n",
    "            term_3 = - sum1(sum2(ds_vect.T*(price_matrix[i:i+1,:]*θ_list - Pe*κ )*Y[j][0:n,:]))\n",
    "\n",
    "            objective = objective +  prob_matrix[i,0]*(term_1 + term_2 + term_3)\n",
    "            j=j+1\n",
    "    return objective\n",
    "\n",
    "objective=objective_constructor(Pa_2, prob_matrix, T_u, ZO, Y)"
   ]
  },
  {
   "cell_type": "markdown",
   "metadata": {
    "id": "8pQjcNmTYpY1"
   },
   "source": [
    "## 2.3 Performing Finite Horizon Optimization using Casadi"
   ]
  },
  {
   "cell_type": "code",
   "execution_count": 12,
   "metadata": {
    "colab": {
     "base_uri": "https://localhost:8080/"
    },
    "id": "3IOquKInMgSE",
    "outputId": "ca9a6143-383c-405d-c2bf-d3d7cf0d7e3c"
   },
   "outputs": [
    {
     "name": "stdout",
     "output_type": "stream",
     "text": [
      "\n",
      "******************************************************************************\n",
      "This program contains Ipopt, a library for large-scale nonlinear optimization.\n",
      " Ipopt is released as open source code under the Eclipse Public License (EPL).\n",
      "         For more information visit https://github.com/coin-or/Ipopt\n",
      "******************************************************************************\n",
      "\n",
      "This is Ipopt version 3.14.11, running with linear solver MUMPS 5.4.1.\n",
      "\n",
      "Number of nonzeros in equality constraint Jacobian...:    89696\n",
      "Number of nonzeros in inequality constraint Jacobian.:    19232\n",
      "Number of nonzeros in Lagrangian Hessian.............:    19200\n",
      "\n",
      "Total number of variables............................:    38496\n",
      "                     variables with only lower bounds:        0\n",
      "                variables with lower and upper bounds:        0\n",
      "                     variables with only upper bounds:        0\n",
      "Total number of equality constraints.................:    25696\n",
      "Total number of inequality constraints...............:    19232\n",
      "        inequality constraints with only lower bounds:    12800\n",
      "   inequality constraints with lower and upper bounds:     6432\n",
      "        inequality constraints with only upper bounds:        0\n",
      "\n",
      "iter    objective    inf_pr   inf_du lg(mu)  ||d||  lg(rg) alpha_du alpha_pr  ls\n",
      "   0  0.0000000e+00 1.99e+02 1.00e+02  -1.0 0.00e+00    -  0.00e+00 0.00e+00   0\n",
      "   1 -1.6388213e+03 1.99e+02 9.96e+01  -1.0 1.37e+06    -  2.35e-04 3.93e-03f  1\n",
      "   2 -4.1171371e+06 1.98e+02 9.93e+01  -1.0 1.33e+06    -  1.63e-02 3.55e-03f  1\n",
      "   3 -4.0906034e+06 1.97e+02 9.88e+01  -1.0 1.29e+06    -  2.50e-02 4.49e-03f  1\n",
      "   4 -4.0196017e+06 1.95e+02 9.76e+01  -1.0 1.21e+06    -  4.61e-01 1.24e-02f  2\n",
      "   5  5.8593206e+05 6.78e-09 4.13e+01  -1.0 5.64e+05    -  1.27e-01 1.00e+00H  1\n",
      "   6  2.2695074e+05 6.55e-09 1.00e-06  -1.0 5.54e+05    -  1.00e+00 1.00e+00F  1\n",
      "   7  7.0579465e+03 7.24e+00 3.25e-01  -2.5 1.64e+04    -  9.45e-01 1.00e+00f  1\n",
      "   8  8.1727594e+03 6.74e-01 2.83e-08  -2.5 5.33e+03    -  1.00e+00 1.00e+00h  1\n",
      "   9  6.7173291e+03 5.63e-02 2.83e-08  -2.5 1.51e+03    -  1.00e+00 1.00e+00h  1\n"
     ]
    },
    {
     "name": "stdout",
     "output_type": "stream",
     "text": [
      "iter    objective    inf_pr   inf_du lg(mu)  ||d||  lg(rg) alpha_du alpha_pr  ls\n",
      "  10  6.7316066e+03 1.26e-03 2.83e-08  -2.5 2.28e+02    -  1.00e+00 1.00e+00h  1\n",
      "  11 -4.9978268e+02 2.59e+00 5.01e-02  -3.8 8.73e+03    -  8.79e-01 1.00e+00f  1\n",
      "  12 -5.0317339e+02 4.71e-01 1.50e-09  -3.8 3.72e+03    -  1.00e+00 1.00e+00h  1\n",
      "  13 -6.2411623e+02 7.50e-02 1.50e-09  -3.8 1.49e+03    -  1.00e+00 1.00e+00h  1\n",
      "  14 -6.2124808e+02 2.04e-03 1.50e-09  -3.8 2.45e+02    -  1.00e+00 1.00e+00h  1\n",
      "  15 -6.2123154e+02 1.68e-06 1.50e-09  -3.8 7.04e+00    -  1.00e+00 1.00e+00h  1\n",
      "  16 -1.0286335e+03 1.25e-01 8.19e-03  -5.7 2.10e+03    -  8.42e-01 9.13e-01f  1\n",
      "  17 -1.0912362e+03 4.31e-02 1.38e-02  -5.7 1.08e+03    -  7.88e-01 9.35e-01h  1\n",
      "  18 -1.1027869e+03 9.80e-03 1.85e-11  -5.7 5.36e+02    -  1.00e+00 1.00e+00h  1\n"
     ]
    },
    {
     "name": "stdout",
     "output_type": "stream",
     "text": [
      "  19 -1.1056712e+03 2.12e-03 1.84e-11  -5.7 2.48e+02    -  1.00e+00 1.00e+00h  1\n",
      "iter    objective    inf_pr   inf_du lg(mu)  ||d||  lg(rg) alpha_du alpha_pr  ls\n",
      "  20 -1.1055770e+03 1.16e-04 1.84e-11  -5.7 5.85e+01    -  1.00e+00 1.00e+00h  1\n",
      "  21 -1.1055760e+03 4.41e-07 1.84e-11  -5.7 3.60e+00    -  1.00e+00 1.00e+00h  1\n",
      "  22 -1.1124406e+03 1.39e-03 5.96e-04  -8.6 2.33e+02    -  8.28e-01 8.61e-01f  1\n",
      "  23 -1.1135194e+03 6.76e-04 7.66e-04  -8.6 1.20e+02    -  7.03e-01 7.60e-01h  1\n"
     ]
    },
    {
     "name": "stdout",
     "output_type": "stream",
     "text": [
      "  24 -1.1138094e+03 2.78e-04 5.56e-04  -8.6 4.31e+01    -  7.39e-01 8.01e-01h  1\n",
      "  25 -1.1138797e+03 9.67e-05 5.26e-05  -8.6 1.25e+01    -  9.06e-01 8.71e-01h  1\n",
      "  26 -1.1138969e+03 2.75e-05 5.08e-13  -8.6 1.18e+01    -  1.00e+00 1.00e+00f  1\n",
      "  27 -1.1138963e+03 4.77e-06 2.58e-14  -8.6 1.12e+01    -  1.00e+00 1.00e+00h  1\n",
      "  28 -1.1138963e+03 3.79e-07 2.53e-14  -8.6 3.31e+00    -  1.00e+00 1.00e+00h  1\n",
      "  29 -1.1138963e+03 3.38e-09 2.58e-14  -8.6 3.10e-01    -  1.00e+00 1.00e+00h  1\n",
      "\n",
      "Number of Iterations....: 29\n",
      "\n",
      "                                   (scaled)                 (unscaled)\n",
      "Objective...............:  -2.6693524397891770e+00   -1.1138963455014982e+03\n",
      "Dual infeasibility......:   2.5757174171303632e-14    1.0748233074133391e-11\n",
      "Constraint violation....:   3.3759075927034665e-09    3.3759075927034665e-09\n",
      "Variable bound violation:   0.0000000000000000e+00    0.0000000000000000e+00\n",
      "Complementarity.........:   2.5067524079583123e-09    1.0460448401944163e-06\n",
      "Overall NLP error.......:   3.3759075927034665e-09    1.0460448401944163e-06\n",
      "\n",
      "\n",
      "Number of objective function evaluations             = 34\n",
      "Number of objective gradient evaluations             = 30\n",
      "Number of equality constraint evaluations            = 34\n",
      "Number of inequality constraint evaluations          = 34\n",
      "Number of equality constraint Jacobian evaluations   = 30\n",
      "Number of inequality constraint Jacobian evaluations = 30\n",
      "Number of Lagrangian Hessian evaluations             = 29\n",
      "Total seconds in IPOPT                               = 5.797\n",
      "\n",
      "EXIT: Optimal Solution Found.\n",
      "      solver  :   t_proc      (avg)   t_wall      (avg)    n_eval\n",
      "       nlp_f  |   7.21ms (212.09us)   4.61ms (135.57us)        34\n",
      "       nlp_g  |  26.93ms (792.06us)  16.20ms (476.57us)        34\n",
      "  nlp_grad_f  |  13.23ms (426.65us)   8.18ms (263.78us)        31\n",
      "  nlp_hess_l  | 108.31ms (  3.73ms)   6.80ms (234.59us)        29\n",
      "   nlp_jac_g  |  42.14ms (  1.36ms)  26.92ms (868.24us)        31\n",
      "       total  |  46.19 s ( 46.19 s)   5.80 s (  5.80 s)         1\n",
      "Initial, time: 6.917660474777222\n"
     ]
    }
   ],
   "source": [
    "opti.minimize(objective)\n",
    "\n",
    "# solve optimization problem\n",
    "options = dict()\n",
    "options[\"print_time\"] = True\n",
    "options[\"expand\"]     = True\n",
    "options[\"ipopt\"]      = {\n",
    "                    'print_level': 5,\n",
    "                    'fast_step_computation':            'yes',\n",
    "                    'mu_allow_fast_monotone_decrease':  'yes',\n",
    "                    'warm_start_init_point':            'yes',\n",
    "                        }\n",
    "opti.solver('ipopt',options)\n",
    "\n",
    "t1 = time.time()\n",
    "opti.set_value(ic,vertcat(Z0_list,np.sum(X0_list),1))\n",
    "sol = opti.solve()\n",
    "disp(f'Initial, time: {time.time()-t1}')\n"
   ]
  },
  {
   "cell_type": "markdown",
   "metadata": {
    "id": "zwBzWa4GMovG"
   },
   "source": [
    "# 3 Model Predictive Control Optimization\n",
    "\n",
    "---\n",
    "## 3.1 Introduction of MPC\n",
    "The provided Python script is a representation of a Model Predictive Control (MPC) optimization routine, a popular strategy in control theory. MPC utilizes an optimization routine at each time step to determine the optimal control inputs, achieved by minimizing a defined cost or objective function.\n",
    "\n",
    "MPC operates on a receding horizon strategy, meaning it uses current state measurements to solve an optimization problem over a finite future time period or horizon. Here's a step-by-step explanation of how it works:\n",
    "\n",
    "### Steps\n",
    "1. System Modeling: MPC requires a predictive model of the system. This model describes how the system evolves over time given current state and control inputs. Models can be derived from first principles (physics-based) or identified from experimental data (data-driven models such as machine learning algorithms).\n",
    "\n",
    "2. Formulation of the Optimization Problem: The core of MPC is the optimization problem, which is formulated in terms of an objective function to be minimized. This function is often the sum of the deviations of the system output from a desired setpoint (tracking errors) and the control effort (to keep actuation smooth and avoid excessive wear and tear on the system). Constraints are also incorporated, which may represent physical limits of the system (like actuator saturation) or safety requirements.\n",
    "\n",
    "3. Solving the Optimization Problem: At each control step, using the current state of the system as initial conditions, MPC solves the optimization problem over a prediction horizon extending into the future. The solution is a sequence of optimal control actions that minimize the cost function over the prediction horizon while satisfying the constraints. (ADD STOCHASTIC HORIZON STUFF)\n",
    "\n",
    "4. Implementation of Control Action: Only the first control action from the optimal sequence is implemented, and the system moves to the next state.\n",
    "\n",
    "5. Receding Horizon Strategy: The horizon moves forward in time (hence \"receding horizon\"), and the procedure is repeated at the next time step: the new current state of the system is measured, a new optimization problem is solved over the shifted horizon, the first control action is implemented, and so on. This receding horizon strategy allows MPC to react to new measurements and disturbances, providing feedback control.\n",
    "\n",
    "## 3.2 Implementing the MPC\n",
    "\n",
    "### 3.2.1 Defining Inputs, Outputs, and Initial State Variables\n",
    "\n",
    "The script commences by defining the inputs and outputs for the optimization routine. The inputs comprise the initial conditions, the decision variables, and the Lagrange multipliers for constraints. The outputs, on the other hand, are the optimal solutions to the problem and the updated decision variables and multipliers.\n",
    "\n"
   ]
  },
  {
   "cell_type": "code",
   "execution_count": 13,
   "metadata": {
    "id": "KDpEGNalb4RE"
   },
   "outputs": [],
   "source": [
    "inputs = [ic,opti.x, opti.lam_g]\n",
    "outputs = [U[0][0],V[0][0],opti.x, opti.lam_g]\n",
    "current_x = vertcat(Z0_list,np.sum(X0_list),1)"
   ]
  },
  {
   "cell_type": "markdown",
   "metadata": {
    "id": "hATrTZEwbrqm"
   },
   "source": [
    "### 3.2.2 Constructing Objective Function and Converting Optimization to Function\n",
    "\n",
    "In the next segment of the code, an objective function is constructed, which is later minimized. This process is performed twice to create two distinct MPC steps, one for each price level.\n"
   ]
  },
  {
   "cell_type": "code",
   "execution_count": 14,
   "metadata": {
    "colab": {
     "base_uri": "https://localhost:8080/"
    },
    "id": "insId3OFb9WE",
    "outputId": "c2fee357-43c1-4ae0-fe62-992f82539f32"
   },
   "outputs": [
    {
     "name": "stdout",
     "output_type": "stream",
     "text": [
      "mpc_step_upper:(i0[3],i1[38496],i2[44928])->(o0,o1,o2[38496],o3[44928]) MXFunction\n"
     ]
    },
    {
     "name": "stdout",
     "output_type": "stream",
     "text": [
      "mpc_step_lower:(i0[3],i1[38496],i2[44928])->(o0,o1,o2[38496],o3[44928]) MXFunction\n"
     ]
    }
   ],
   "source": [
    "objective =objective_constructor(Pa_2,prob_matrix, T_u, ZO, Y)\n",
    "opti.minimize(objective)\n",
    "mpc_step_upper = opti.to_function('mpc_step_upper',inputs,outputs)\n",
    "print(mpc_step_upper)\n",
    "\n",
    "objective =objective_constructor(Pa_1,prob_matrix, T_u, ZO, Y)\n",
    "opti.minimize(objective)\n",
    "mpc_step_lower = opti.to_function('mpc_step_lower',inputs,outputs)\n",
    "print(mpc_step_lower)"
   ]
  },
  {
   "cell_type": "markdown",
   "metadata": {
    "id": "iV1KCzn6bsmv"
   },
   "source": [
    "\n",
    "### 3.2.3 Running the MPC\n",
    "\n",
    "Finally, the MPC is executed in a loop for a designated number of steps. At each step, it updates the history variables and the current state. Depending on the price history at each step, it either performs an upper or lower MPC step. It also calculates and displays the total time to perform each step. This allows users to track the performance and efficiency of the MPC routine.\n"
   ]
  },
  {
   "cell_type": "code",
   "execution_count": 15,
   "metadata": {
    "colab": {
     "base_uri": "https://localhost:8080/"
    },
    "id": "pzeSjBFoMoXm",
    "outputId": "e07d566c-b4e4-436d-adab-574cb1817fdd"
   },
   "outputs": [
    {
     "name": "stdout",
     "output_type": "stream",
     "text": [
      "This is Ipopt version 3.14.11, running with linear solver MUMPS 5.4.1.\n",
      "\n",
      "Number of nonzeros in equality constraint Jacobian...:    89696\n",
      "Number of nonzeros in inequality constraint Jacobian.:    19232\n",
      "Number of nonzeros in Lagrangian Hessian.............:    19200\n",
      "\n",
      "Total number of variables............................:    38496\n",
      "                     variables with only lower bounds:        0\n",
      "                variables with lower and upper bounds:        0\n",
      "                     variables with only upper bounds:        0\n",
      "Total number of equality constraints.................:    25696\n",
      "Total number of inequality constraints...............:    19232\n",
      "        inequality constraints with only lower bounds:    12800\n",
      "   inequality constraints with lower and upper bounds:     6432\n",
      "        inequality constraints with only upper bounds:        0\n",
      "\n",
      "iter    objective    inf_pr   inf_du lg(mu)  ||d||  lg(rg) alpha_du alpha_pr  ls\n",
      "   0 -1.1138963e+03 8.01e+00 1.00e-03  -1.0 0.00e+00    -  0.00e+00 0.00e+00   0\n",
      "   1 -1.0647416e+03 8.01e+00 3.41e-02  -1.0 1.24e+06    -  6.34e-04 3.58e-04f  1\n",
      "   2 -7.1388383e+02 7.99e+00 3.09e-02  -1.0 1.09e+06    -  1.36e-03 2.11e-03f  1\n",
      "   3  2.5667877e+02 7.95e+00 1.35e-01  -1.0 8.13e+05    -  1.10e-02 4.62e-03f  1\n",
      "   4  7.6895152e+03 1.20e+01 1.27e-01  -1.0 4.38e+05    -  2.94e-02 4.20e-02f  1\n",
      "   5  3.1052668e+04 2.34e+01 9.78e+00  -1.0 1.96e+05    -  1.00e+00 9.79e-02f  1\n",
      "   6  1.2566383e+05 5.00e+01 1.00e-06  -1.0 3.81e+04    -  1.00e+00 1.00e+00f  1\n"
     ]
    },
    {
     "name": "stdout",
     "output_type": "stream",
     "text": [
      "   7  2.6651788e+05 3.58e+01 1.00e-06  -1.0 3.20e+04    -  1.00e+00 1.00e+00f  1\n",
      "   8  2.6650824e+05 7.19e-01 1.00e-06  -1.0 4.48e+03    -  1.00e+00 1.00e+00h  1\n",
      "   9  5.2771803e+04 6.56e+01 2.00e-07  -1.7 4.39e+04    -  1.00e+00 1.00e+00f  1\n",
      "iter    objective    inf_pr   inf_du lg(mu)  ||d||  lg(rg) alpha_du alpha_pr  ls\n",
      "  10  5.2708152e+04 7.30e+00 2.00e-07  -1.7 1.47e+04    -  1.00e+00 1.00e+00h  1\n",
      "  11  5.2716775e+04 1.50e-01 2.00e-07  -1.7 2.10e+03    -  1.00e+00 1.00e+00h  1\n",
      "  12  6.7920907e+03 1.51e+01 2.83e-08  -2.5 2.11e+04    -  1.00e+00 1.00e+00f  1\n",
      "  13  6.6826583e+03 2.14e+00 2.83e-08  -2.5 7.93e+03    -  1.00e+00 1.00e+00h  1\n"
     ]
    },
    {
     "name": "stdout",
     "output_type": "stream",
     "text": [
      "  14  6.6994591e+03 8.35e-02 2.83e-08  -2.5 1.57e+03    -  1.00e+00 1.00e+00h  1\n",
      "  15  6.6996991e+03 1.50e-04 2.83e-08  -2.5 6.63e+01    -  1.00e+00 1.00e+00h  1\n",
      "  16 -5.3044354e+02 2.59e+00 5.04e-02  -3.8 8.73e+03    -  8.78e-01 1.00e+00f  1\n",
      "  17 -5.3604681e+02 4.71e-01 1.50e-09  -3.8 3.72e+03    -  1.00e+00 1.00e+00h  1\n",
      "  18 -6.5685793e+02 7.51e-02 1.50e-09  -3.8 1.49e+03    -  1.00e+00 1.00e+00h  1\n",
      "  19 -6.5393466e+02 2.04e-03 1.50e-09  -3.8 2.45e+02    -  1.00e+00 1.00e+00h  1\n",
      "iter    objective    inf_pr   inf_du lg(mu)  ||d||  lg(rg) alpha_du alpha_pr  ls\n",
      "  20 -6.5391738e+02 1.69e-06 1.50e-09  -3.8 7.05e+00    -  1.00e+00 1.00e+00h  1\n"
     ]
    },
    {
     "name": "stdout",
     "output_type": "stream",
     "text": [
      "  21 -1.0617990e+03 1.25e-01 8.26e-03  -5.7 2.10e+03    -  8.42e-01 9.13e-01f  1\n",
      "  22 -1.1247138e+03 4.31e-02 1.40e-02  -5.7 1.09e+03    -  7.88e-01 9.36e-01h  1\n",
      "  23 -1.1363225e+03 9.79e-03 1.84e-11  -5.7 5.36e+02    -  1.00e+00 1.00e+00h  1\n",
      "  24 -1.1392190e+03 2.12e-03 1.84e-11  -5.7 2.48e+02    -  1.00e+00 1.00e+00h  1\n",
      "  25 -1.1391244e+03 1.16e-04 1.84e-11  -5.7 5.85e+01    -  1.00e+00 1.00e+00h  1\n",
      "  26 -1.1391234e+03 4.41e-07 1.84e-11  -5.7 3.60e+00    -  1.00e+00 1.00e+00h  1\n",
      "  27 -1.1460096e+03 1.40e-03 5.93e-04  -8.6 2.33e+02    -  8.28e-01 8.61e-01f  1\n"
     ]
    },
    {
     "name": "stdout",
     "output_type": "stream",
     "text": [
      "  28 -1.1470891e+03 6.76e-04 7.25e-04  -8.6 1.20e+02    -  7.03e-01 7.60e-01h  1\n",
      "  29 -1.1473785e+03 2.77e-04 4.73e-04  -8.6 4.31e+01    -  7.39e-01 8.00e-01h  1\n",
      "iter    objective    inf_pr   inf_du lg(mu)  ||d||  lg(rg) alpha_du alpha_pr  ls\n",
      "  30 -1.1474489e+03 9.67e-05 4.08e-05  -8.6 1.26e+01    -  9.07e-01 8.71e-01h  1\n",
      "  31 -1.1474663e+03 2.75e-05 9.95e-14  -8.6 1.18e+01    -  1.00e+00 1.00e+00f  1\n",
      "  32 -1.1474657e+03 4.77e-06 2.58e-14  -8.6 1.12e+01    -  1.00e+00 1.00e+00h  1\n",
      "  33 -1.1474657e+03 3.78e-07 2.58e-14  -8.6 3.30e+00    -  1.00e+00 1.00e+00h  1\n",
      "  34 -1.1474657e+03 3.37e-09 2.58e-14  -8.6 3.10e-01    -  1.00e+00 1.00e+00h  1\n",
      "\n",
      "Number of Iterations....: 34\n",
      "\n",
      "                                   (scaled)                 (unscaled)\n",
      "Objective...............:  -2.7497983076038088e+00   -1.1474656699690056e+03\n",
      "Dual infeasibility......:   2.5757174171303632e-14    1.0748233074133391e-11\n",
      "Constraint violation....:   3.3666231599922304e-09    3.3666231599922304e-09\n",
      "Variable bound violation:   0.0000000000000000e+00    0.0000000000000000e+00\n",
      "Complementarity.........:   2.5067502307113355e-09    1.0460439316491771e-06\n",
      "Overall NLP error.......:   3.3666231599922304e-09    1.0460439316491771e-06\n",
      "\n",
      "\n",
      "Number of objective function evaluations             = 35\n",
      "Number of objective gradient evaluations             = 35\n",
      "Number of equality constraint evaluations            = 35\n",
      "Number of inequality constraint evaluations          = 35\n",
      "Number of equality constraint Jacobian evaluations   = 35\n",
      "Number of inequality constraint Jacobian evaluations = 35\n",
      "Number of Lagrangian Hessian evaluations             = 34\n",
      "Total seconds in IPOPT                               = 6.663\n",
      "\n",
      "EXIT: Optimal Solution Found.\n",
      "      solver  :   t_proc      (avg)   t_wall      (avg)    n_eval\n",
      "       nlp_f  |   9.30ms (265.77us)   5.26ms (150.39us)        35\n",
      "       nlp_g  |  33.90ms (968.66us)  18.85ms (538.57us)        35\n",
      "  nlp_grad_f  |  13.10ms (363.83us)   9.29ms (258.04us)        36\n",
      "  nlp_hess_l  | 126.91ms (  3.73ms)   7.94ms (233.40us)        34\n",
      "   nlp_jac_g  |  43.22ms (  1.20ms)  32.34ms (898.40us)        36\n",
      "       total  |  50.95 s ( 50.95 s)   6.67 s (  6.67 s)         1\n"
     ]
    },
    {
     "name": "stdout",
     "output_type": "stream",
     "text": [
      "Year: 1, time: 6.685051918029785\n"
     ]
    },
    {
     "name": "stdout",
     "output_type": "stream",
     "text": [
      "This is Ipopt version 3.14.11, running with linear solver MUMPS 5.4.1.\n",
      "\n",
      "Number of nonzeros in equality constraint Jacobian...:    89696\n",
      "Number of nonzeros in inequality constraint Jacobian.:    19232\n",
      "Number of nonzeros in Lagrangian Hessian.............:    19200\n",
      "\n",
      "Total number of variables............................:    38496\n",
      "                     variables with only lower bounds:        0\n",
      "                variables with lower and upper bounds:        0\n",
      "                     variables with only upper bounds:        0\n",
      "Total number of equality constraints.................:    25696\n",
      "Total number of inequality constraints...............:    19232\n",
      "        inequality constraints with only lower bounds:    12800\n",
      "   inequality constraints with lower and upper bounds:     6432\n",
      "        inequality constraints with only upper bounds:        0\n",
      "\n",
      "iter    objective    inf_pr   inf_du lg(mu)  ||d||  lg(rg) alpha_du alpha_pr  ls\n",
      "   0 -1.1474657e+03 7.89e+00 1.00e-03  -1.0 0.00e+00    -  0.00e+00 0.00e+00   0\n"
     ]
    },
    {
     "name": "stdout",
     "output_type": "stream",
     "text": [
      "   1 -1.0982568e+03 7.89e+00 2.87e-02  -1.0 1.24e+06    -  6.00e-04 3.61e-04f  1"
     ]
    },
    {
     "name": "stdout",
     "output_type": "stream",
     "text": [
      "\n",
      "   2 -7.5930590e+02 7.87e+00 2.43e-02  -1.0 1.09e+06    -  1.27e-03 2.00e-03f  1\n",
      "   3  1.4981510e+02 7.84e+00 1.08e-01  -1.0 8.26e+05    -  9.52e-03 4.29e-03f  1\n",
      "   4  6.0436338e+03 8.07e+00 8.55e-02  -1.0 4.63e+05    -  2.37e-02 3.25e-02f  1\n",
      "   5  3.0761434e+04 2.62e+01 1.01e+01  -1.0 2.24e+05    -  1.00e+00 1.05e-01f  1\n",
      "   6  1.2155978e+05 4.11e+01 1.00e-06  -1.0 3.45e+04    -  1.00e+00 1.00e+00f  1\n",
      "   7  2.6646276e+05 4.54e+01 1.00e-06  -1.0 3.60e+04    -  1.00e+00 1.00e+00f  1\n",
      "   8  2.6644994e+05 1.14e+00 1.00e-06  -1.0 5.62e+03    -  1.00e+00 1.00e+00h  1\n"
     ]
    },
    {
     "name": "stdout",
     "output_type": "stream",
     "text": [
      "   9  2.6644649e+05 7.86e-04 1.00e-06  -1.0 1.44e+02    -  1.00e+00 1.00e+00h  1\n",
      "iter    objective    inf_pr   inf_du lg(mu)  ||d||  lg(rg) alpha_du alpha_pr  ls\n",
      "  10  6.8552975e+03 9.65e+01 2.32e-01  -2.5 5.33e+04    -  9.50e-01 1.00e+00f  1\n",
      "  11  8.1575971e+03 2.06e+01 2.83e-08  -2.5 2.46e+04    -  1.00e+00 1.00e+00h  1\n",
      "  12  6.6639473e+03 3.78e+00 2.83e-08  -2.5 1.05e+04    -  1.00e+00 1.00e+00h  1\n",
      "  13  6.6693876e+03 2.33e-01 2.83e-08  -2.5 2.62e+03    -  1.00e+00 1.00e+00h  1\n",
      "  14  6.6694020e+03 1.15e-03 2.83e-08  -2.5 1.84e+02    -  1.00e+00 1.00e+00h  1\n",
      "  15 -5.5992710e+02 2.59e+00 5.08e-02  -3.8 8.73e+03    -  8.78e-01 1.00e+00f  1\n"
     ]
    },
    {
     "name": "stdout",
     "output_type": "stream",
     "text": [
      "  16 -5.6703394e+02 4.71e-01 1.50e-09  -3.8 3.72e+03    -  1.00e+00 1.00e+00h  1\n",
      "  17 -6.8854428e+02 7.51e-02 1.50e-09  -3.8 1.49e+03    -  1.00e+00 1.00e+00h  1\n",
      "  18 -6.8558978e+02 2.04e-03 1.50e-09  -3.8 2.45e+02    -  1.00e+00 1.00e+00h  1\n",
      "  19 -6.8557216e+02 1.69e-06 1.50e-09  -3.8 7.05e+00    -  1.00e+00 1.00e+00h  1\n",
      "iter    objective    inf_pr   inf_du lg(mu)  ||d||  lg(rg) alpha_du alpha_pr  ls\n",
      "  20 -1.0940150e+03 1.25e-01 8.34e-03  -5.7 2.10e+03    -  8.42e-01 9.13e-01f  1\n",
      "  21 -1.1572107e+03 4.31e-02 1.42e-02  -5.7 1.09e+03    -  7.88e-01 9.36e-01h  1\n",
      "  22 -1.1688619e+03 9.77e-03 1.85e-11  -5.7 5.36e+02    -  1.00e+00 1.00e+00h  1\n"
     ]
    },
    {
     "name": "stdout",
     "output_type": "stream",
     "text": [
      "  23 -1.1717715e+03 2.12e-03 1.84e-11  -5.7 2.48e+02    -  1.00e+00 1.00e+00h  1\n",
      "  24 -1.1716767e+03 1.16e-04 1.84e-11  -5.7 5.84e+01    -  1.00e+00 1.00e+00h  1\n",
      "  25 -1.1716757e+03 4.40e-07 1.84e-11  -5.7 3.60e+00    -  1.00e+00 1.00e+00h  1\n",
      "  26 -1.1785839e+03 1.40e-03 5.80e-04  -8.6 2.33e+02    -  8.28e-01 8.62e-01f  1\n",
      "  27 -1.1796635e+03 6.75e-04 6.59e-04  -8.6 1.20e+02    -  7.03e-01 7.61e-01h  1\n",
      "  28 -1.1799524e+03 2.77e-04 3.84e-04  -8.6 4.30e+01    -  7.39e-01 8.00e-01h  1\n",
      "  29 -1.1800230e+03 9.66e-05 4.12e-05  -8.6 1.26e+01    -  9.07e-01 8.71e-01h  1\n"
     ]
    },
    {
     "name": "stdout",
     "output_type": "stream",
     "text": [
      "iter    objective    inf_pr   inf_du lg(mu)  ||d||  lg(rg) alpha_du alpha_pr  ls\n",
      "  30 -1.1800404e+03 2.74e-05 2.84e-14  -8.6 1.18e+01    -  1.00e+00 1.00e+00h  1\n",
      "  31 -1.1800398e+03 4.76e-06 2.58e-14  -8.6 1.12e+01    -  1.00e+00 1.00e+00h  1\n",
      "  32 -1.1800398e+03 3.77e-07 2.58e-14  -8.6 3.30e+00    -  1.00e+00 1.00e+00h  1\n",
      "  33 -1.1800398e+03 3.35e-09 2.58e-14  -8.6 3.09e-01    -  1.00e+00 1.00e+00h  1\n",
      "\n",
      "Number of Iterations....: 33\n",
      "\n",
      "                                   (scaled)                 (unscaled)\n",
      "Objective...............:  -2.8278592140794334e+00   -1.1800397718948643e+03\n",
      "Dual infeasibility......:   2.5757174171303632e-14    1.0748233074133391e-11\n",
      "Constraint violation....:   3.3502351546985429e-09    3.3502351546985429e-09\n",
      "Variable bound violation:   0.0000000000000000e+00    0.0000000000000000e+00\n",
      "Complementarity.........:   2.5067461792732538e-09    1.0460422410211409e-06\n",
      "Overall NLP error.......:   3.3502351546985429e-09    1.0460422410211409e-06\n",
      "\n",
      "\n",
      "Number of objective function evaluations             = 34\n",
      "Number of objective gradient evaluations             = 34\n",
      "Number of equality constraint evaluations            = 34\n",
      "Number of inequality constraint evaluations          = 34\n",
      "Number of equality constraint Jacobian evaluations   = 34\n",
      "Number of inequality constraint Jacobian evaluations = 34\n",
      "Number of Lagrangian Hessian evaluations             = 33\n",
      "Total seconds in IPOPT                               = 5.611\n",
      "\n",
      "EXIT: Optimal Solution Found.\n",
      "      solver  :   t_proc      (avg)   t_wall      (avg)    n_eval\n",
      "       nlp_f  |  16.88ms (244.59us)  10.22ms (148.09us)        69\n",
      "       nlp_g  |  61.02ms (884.32us)  36.34ms (526.67us)        69\n",
      "    nlp_grad  |  25.72ms ( 25.72ms)   1.61ms (  1.61ms)         1\n",
      "  nlp_grad_f  |  32.27ms (454.55us)  18.50ms (260.52us)        71\n",
      "  nlp_hess_l  | 223.99ms (  3.34ms)  13.98ms (208.65us)        67\n",
      "   nlp_jac_g  | 103.30ms (  1.45ms)  62.22ms (876.28us)        71\n",
      "       total  |  48.70 s ( 48.70 s)   5.62 s (  5.62 s)         1\n",
      "Year: 2, time: 5.626036643981934\n"
     ]
    },
    {
     "name": "stdout",
     "output_type": "stream",
     "text": [
      "This is Ipopt version 3.14.11, running with linear solver MUMPS 5.4.1.\n",
      "\n",
      "Number of nonzeros in equality constraint Jacobian...:    89696\n",
      "Number of nonzeros in inequality constraint Jacobian.:    19232\n",
      "Number of nonzeros in Lagrangian Hessian.............:    19200\n",
      "\n",
      "Total number of variables............................:    38496\n",
      "                     variables with only lower bounds:        0\n",
      "                variables with lower and upper bounds:        0\n",
      "                     variables with only upper bounds:        0\n",
      "Total number of equality constraints.................:    25696\n",
      "Total number of inequality constraints...............:    19232\n",
      "        inequality constraints with only lower bounds:    12800\n",
      "   inequality constraints with lower and upper bounds:     6432\n",
      "        inequality constraints with only upper bounds:        0\n",
      "\n",
      "iter    objective    inf_pr   inf_du lg(mu)  ||d||  lg(rg) alpha_du alpha_pr  ls\n",
      "   0 -1.1800398e+03 7.77e+00 1.00e-03  -1.0 0.00e+00    -  0.00e+00 0.00e+00   0\n"
     ]
    },
    {
     "name": "stdout",
     "output_type": "stream",
     "text": [
      "   1 -1.1307158e+03 7.77e+00 2.44e-02  -1.0 1.24e+06    -  5.71e-04 3.64e-04f  1"
     ]
    },
    {
     "name": "stdout",
     "output_type": "stream",
     "text": [
      "\n",
      "   2 -8.0273518e+02 7.75e+00 1.99e-02  -1.0 1.09e+06    -  1.20e-03 1.90e-03f  1\n",
      "   3  6.0252773e+01 7.72e+00 8.10e-02  -1.0 8.38e+05    -  7.97e-03 4.05e-03f  1\n",
      "   4  5.2742509e+03 7.51e+00 7.30e-02  -1.0 4.92e+05    -  2.07e-02 2.76e-02f  1\n",
      "   5  2.9582675e+04 2.72e+01 1.04e+01  -1.0 2.43e+05    -  1.00e+00 1.03e-01f  1\n",
      "   6  1.1729517e+05 3.70e+01 1.00e-06  -1.0 3.27e+04    -  1.00e+00 1.00e+00f  1\n",
      "   7  2.6641254e+05 5.36e+01 1.00e-06  -1.0 3.91e+04    -  1.00e+00 1.00e+00f  1\n",
      "   8  2.6639892e+05 1.55e+00 1.00e-06  -1.0 6.57e+03    -  1.00e+00 1.00e+00h  1\n",
      "   9  2.6639423e+05 1.47e-03 1.00e-06  -1.0 1.96e+02    -  1.00e+00 1.00e+00h  1\n",
      "iter    objective    inf_pr   inf_du lg(mu)  ||d||  lg(rg) alpha_du alpha_pr  ls\n",
      "  10  6.8195709e+03 9.65e+01 1.87e-01  -2.5 5.33e+04    -  9.57e-01 1.00e+00f  1\n",
      "  11  7.9254519e+03 2.07e+01 2.83e-08  -2.5 2.47e+04    -  1.00e+00 1.00e+00h  1\n"
     ]
    },
    {
     "name": "stdout",
     "output_type": "stream",
     "text": [
      "  12  6.6369836e+03 3.74e+00 2.83e-08  -2.5 1.05e+04    -  1.00e+00 1.00e+00h  1\n",
      "  13  6.6407799e+03 2.29e-01 2.83e-08  -2.5 2.59e+03    -  1.00e+00 1.00e+00h  1\n",
      "  14  6.6407845e+03 1.11e-03 2.83e-08  -2.5 1.81e+02    -  1.00e+00 1.00e+00h  1\n",
      "  15 -5.8825779e+02 2.59e+00 5.12e-02  -3.8 8.73e+03    -  8.78e-01 1.00e+00f  1\n",
      "  16 -5.9703977e+02 4.71e-01 1.50e-09  -3.8 3.72e+03    -  1.00e+00 1.00e+00h  1\n",
      "  17 -7.1920725e+02 7.51e-02 1.50e-09  -3.8 1.49e+03    -  1.00e+00 1.00e+00h  1\n",
      "  18 -7.1621739e+02 2.04e-03 1.50e-09  -3.8 2.45e+02    -  1.00e+00 1.00e+00h  1\n"
     ]
    },
    {
     "name": "stdout",
     "output_type": "stream",
     "text": [
      "  19 -7.1619939e+02 1.69e-06 1.50e-09  -3.8 7.05e+00    -  1.00e+00 1.00e+00h  1\n",
      "iter    objective    inf_pr   inf_du lg(mu)  ||d||  lg(rg) alpha_du alpha_pr  ls\n",
      "  20 -1.1252775e+03 1.25e-01 8.43e-03  -5.7 2.10e+03    -  8.42e-01 9.13e-01f  1\n",
      "  21 -1.1887220e+03 4.30e-02 1.45e-02  -5.7 1.08e+03    -  7.88e-01 9.37e-01h  1\n",
      "  22 -1.2004007e+03 9.75e-03 1.85e-11  -5.7 5.35e+02    -  1.00e+00 1.00e+00h  1\n",
      "  23 -1.2033246e+03 2.12e-03 1.84e-11  -5.7 2.48e+02    -  1.00e+00 1.00e+00h  1\n",
      "  24 -1.2032295e+03 1.16e-04 1.84e-11  -5.7 5.84e+01    -  1.00e+00 1.00e+00h  1\n",
      "  25 -1.2032285e+03 4.38e-07 1.84e-11  -5.7 3.59e+00    -  1.00e+00 1.00e+00h  1\n"
     ]
    },
    {
     "name": "stdout",
     "output_type": "stream",
     "text": [
      "  26 -1.2101592e+03 1.40e-03 5.60e-04  -8.6 2.33e+02    -  8.28e-01 8.62e-01f  1\n",
      "  27 -1.2112385e+03 6.75e-04 5.86e-04  -8.6 1.19e+02    -  7.03e-01 7.61e-01h  1\n",
      "  28 -1.2115269e+03 2.77e-04 3.12e-04  -8.6 4.29e+01    -  7.39e-01 8.00e-01h  1\n",
      "  29 -1.2115977e+03 9.64e-05 4.11e-05  -8.6 1.26e+01    -  9.07e-01 8.71e-01h  1\n",
      "iter    objective    inf_pr   inf_du lg(mu)  ||d||  lg(rg) alpha_du alpha_pr  ls\n",
      "  30 -1.2116150e+03 2.74e-05 1.56e-13  -8.6 1.18e+01    -  1.00e+00 1.00e+00h  1\n",
      "  31 -1.2116144e+03 4.75e-06 2.58e-14  -8.6 1.12e+01    -  1.00e+00 1.00e+00h  1\n",
      "  32 -1.2116144e+03 3.76e-07 2.53e-14  -8.6 3.29e+00    -  1.00e+00 1.00e+00h  1\n"
     ]
    },
    {
     "name": "stdout",
     "output_type": "stream",
     "text": [
      "  33 -1.2116144e+03 3.33e-09 2.58e-14  -8.6 3.08e-01    -  1.00e+00 1.00e+00h  1\n",
      "\n",
      "Number of Iterations....: 33\n",
      "\n",
      "                                   (scaled)                 (unscaled)\n",
      "Objective...............:  -2.9035250671507211e+00   -1.2116144399525665e+03\n",
      "Dual infeasibility......:   2.5757174171303632e-14    1.0748233074133391e-11\n",
      "Constraint violation....:   3.3264094665483025e-09    3.3264094665483025e-09\n",
      "Variable bound violation:   0.0000000000000000e+00    0.0000000000000000e+00\n",
      "Complementarity.........:   2.5067401719930930e-09    1.0460397342381035e-06\n",
      "Overall NLP error.......:   3.3264094665483025e-09    1.0460397342381035e-06\n",
      "\n",
      "\n",
      "Number of objective function evaluations             = 34\n",
      "Number of objective gradient evaluations             = 34\n",
      "Number of equality constraint evaluations            = 34\n",
      "Number of inequality constraint evaluations          = 34\n",
      "Number of equality constraint Jacobian evaluations   = 34\n",
      "Number of inequality constraint Jacobian evaluations = 34\n",
      "Number of Lagrangian Hessian evaluations             = 33\n",
      "Total seconds in IPOPT                               = 5.319\n",
      "\n",
      "EXIT: Optimal Solution Found.\n",
      "      solver  :   t_proc      (avg)   t_wall      (avg)    n_eval\n",
      "       nlp_f  |  23.26ms (225.84us)  14.63ms (142.04us)       103\n",
      "       nlp_g  |  83.59ms (811.51us)  51.78ms (502.72us)       103\n",
      "    nlp_grad  |  44.71ms ( 22.35ms)   2.80ms (  1.40ms)         2\n",
      "  nlp_grad_f  |  48.66ms (459.08us)  27.24ms (256.97us)       106\n",
      "  nlp_hess_l  | 304.15ms (  3.04ms)  18.97ms (189.69us)       100\n",
      "   nlp_jac_g  | 152.79ms (  1.44ms)  89.34ms (842.86us)       106\n",
      "       total  |  48.35 s ( 48.35 s)   5.32 s (  5.32 s)         1\n",
      "Year: 3, time: 5.328706979751587\n"
     ]
    },
    {
     "name": "stdout",
     "output_type": "stream",
     "text": [
      "This is Ipopt version 3.14.11, running with linear solver MUMPS 5.4.1.\n",
      "\n",
      "Number of nonzeros in equality constraint Jacobian...:    89696\n",
      "Number of nonzeros in inequality constraint Jacobian.:    19232\n",
      "Number of nonzeros in Lagrangian Hessian.............:    19200\n",
      "\n",
      "Total number of variables............................:    38496\n",
      "                     variables with only lower bounds:        0\n",
      "                variables with lower and upper bounds:        0\n",
      "                     variables with only upper bounds:        0\n",
      "Total number of equality constraints.................:    25696\n",
      "Total number of inequality constraints...............:    19232\n",
      "        inequality constraints with only lower bounds:    12800\n",
      "   inequality constraints with lower and upper bounds:     6432\n",
      "        inequality constraints with only upper bounds:        0\n",
      "\n",
      "iter    objective    inf_pr   inf_du lg(mu)  ||d||  lg(rg) alpha_du alpha_pr  ls\n",
      "   0 -1.2116144e+03 7.64e+00 1.00e-03  -1.0 0.00e+00    -  0.00e+00 0.00e+00   0\n"
     ]
    },
    {
     "name": "stdout",
     "output_type": "stream",
     "text": [
      "   1 -1.1621469e+03 7.64e+00 2.07e-02  -1.0 1.24e+06    -  5.45e-04 3.67e-04f  1"
     ]
    },
    {
     "name": "stdout",
     "output_type": "stream",
     "text": [
      "\n",
      "   2 -8.4396310e+02 7.63e+00 1.62e-02  -1.0 1.10e+06    -  1.16e-03 1.82e-03f  1\n",
      "   3 -1.7042294e+01 7.60e+00 5.80e-02  -1.0 8.47e+05    -  6.54e-03 3.86e-03f  1\n",
      "   4  4.8306157e+03 7.41e+00 7.49e-02  -1.0 5.23e+05    -  1.85e-02 2.46e-02f  1\n",
      "   5  2.6854333e+04 2.44e+01 1.07e+01  -1.0 2.58e+05    -  1.00e+00 9.16e-02f  1\n",
      "   6  1.0870175e+05 3.57e+01 1.00e-06  -1.0 3.22e+04    -  1.00e+00 1.00e+00f  1\n",
      "   7  2.6636813e+05 6.65e+01 1.00e-06  -1.0 4.35e+04    -  1.00e+00 1.00e+00f  1\n",
      "   8  2.6635534e+05 2.33e+00 1.00e-06  -1.0 8.03e+03    -  1.00e+00 1.00e+00h  1\n",
      "   9  2.6634872e+05 3.29e-03 1.00e-06  -1.0 2.93e+02    -  1.00e+00 1.00e+00h  1\n",
      "iter    objective    inf_pr   inf_du lg(mu)  ||d||  lg(rg) alpha_du alpha_pr  ls\n",
      "  10  6.7879269e+03 9.65e+01 1.46e-01  -2.5 5.33e+04    -  9.64e-01 1.00e+00f  1\n",
      "  11  7.6829484e+03 2.08e+01 2.83e-08  -2.5 2.48e+04    -  1.00e+00 1.00e+00h  1\n",
      "  12  6.6114508e+03 3.70e+00 2.83e-08  -2.5 1.04e+04    -  1.00e+00 1.00e+00h  1\n",
      "  13  6.6137581e+03 2.24e-01 2.83e-08  -2.5 2.57e+03    -  1.00e+00 1.00e+00h  1\n",
      "  14  6.6137569e+03 1.07e-03 2.83e-08  -2.5 1.77e+02    -  1.00e+00 1.00e+00h  1\n"
     ]
    },
    {
     "name": "stdout",
     "output_type": "stream",
     "text": [
      "  15 -6.1546511e+02 2.59e+00 5.17e-02  -3.8 8.73e+03    -  8.78e-01 1.00e+00f  1\n",
      "  16 -6.2605610e+02 4.71e-01 1.50e-09  -3.8 3.72e+03    -  1.00e+00 1.00e+00h  1\n",
      "  17 -7.4884773e+02 7.51e-02 1.50e-09  -3.8 1.49e+03    -  1.00e+00 1.00e+00h  1\n",
      "  18 -7.4581947e+02 2.04e-03 1.50e-09  -3.8 2.45e+02    -  1.00e+00 1.00e+00h  1\n",
      "  19 -7.4580109e+02 1.69e-06 1.50e-09  -3.8 7.05e+00    -  1.00e+00 1.00e+00h  1\n",
      "iter    objective    inf_pr   inf_du lg(mu)  ||d||  lg(rg) alpha_du alpha_pr  ls\n",
      "  20 -1.1555839e+03 1.25e-01 8.52e-03  -5.7 2.10e+03    -  8.42e-01 9.14e-01f  1\n",
      "  21 -1.2192436e+03 4.30e-02 1.47e-02  -5.7 1.08e+03    -  7.88e-01 9.38e-01h  1\n"
     ]
    },
    {
     "name": "stdout",
     "output_type": "stream",
     "text": [
      "  22 -1.2309351e+03 9.73e-03 1.85e-11  -5.7 5.34e+02    -  1.00e+00 1.00e+00h  1\n",
      "  23 -1.2338746e+03 2.11e-03 1.84e-11  -5.7 2.48e+02    -  1.00e+00 1.00e+00h  1\n",
      "  24 -1.2337793e+03 1.16e-04 1.84e-11  -5.7 5.83e+01    -  1.00e+00 1.00e+00h  1\n",
      "  25 -1.2337782e+03 4.36e-07 1.84e-11  -5.7 3.58e+00    -  1.00e+00 1.00e+00h  1\n",
      "  26 -1.2407318e+03 1.40e-03 5.36e-04  -8.6 2.33e+02    -  8.28e-01 8.63e-01f  1\n",
      "  27 -1.2418107e+03 6.75e-04 5.19e-04  -8.6 1.19e+02    -  7.03e-01 7.62e-01h  1\n",
      "  28 -1.2420984e+03 2.76e-04 3.15e-04  -8.6 4.28e+01    -  7.39e-01 8.00e-01h  1\n"
     ]
    },
    {
     "name": "stdout",
     "output_type": "stream",
     "text": [
      "  29 -1.2421692e+03 9.62e-05 4.18e-05  -8.6 1.26e+01    -  9.08e-01 8.72e-01h  1\n",
      "iter    objective    inf_pr   inf_du lg(mu)  ||d||  lg(rg) alpha_du alpha_pr  ls\n",
      "  30 -1.2421866e+03 2.73e-05 3.78e-13  -8.6 1.18e+01    -  1.00e+00 1.00e+00f  1\n",
      "  31 -1.2421860e+03 4.74e-06 2.58e-14  -8.6 1.11e+01    -  1.00e+00 1.00e+00h  1\n",
      "  32 -1.2421860e+03 3.74e-07 2.58e-14  -8.6 3.29e+00    -  1.00e+00 1.00e+00h  1\n",
      "  33 -1.2421860e+03 3.30e-09 2.58e-14  -8.6 3.07e-01    -  1.00e+00 1.00e+00h  1\n",
      "\n",
      "Number of Iterations....: 33\n",
      "\n",
      "                                   (scaled)                 (unscaled)\n",
      "Objective...............:  -2.9767870362263866e+00   -1.2421859892171788e+03\n",
      "Dual infeasibility......:   2.5757174171303632e-14    1.0748233074133391e-11\n",
      "Constraint violation....:   3.2997730409764433e-09    3.2997730409764433e-09\n",
      "Variable bound violation:   0.0000000000000000e+00    0.0000000000000000e+00\n",
      "Complementarity.........:   2.5067337112569608e-09    1.0460370382320384e-06\n",
      "Overall NLP error.......:   3.2997730409764433e-09    1.0460370382320384e-06\n",
      "\n",
      "\n",
      "Number of objective function evaluations             = 34\n",
      "Number of objective gradient evaluations             = 34\n",
      "Number of equality constraint evaluations            = 34\n",
      "Number of inequality constraint evaluations          = 34\n",
      "Number of equality constraint Jacobian evaluations   = 34\n",
      "Number of inequality constraint Jacobian evaluations = 34\n",
      "Number of Lagrangian Hessian evaluations             = 33\n",
      "Total seconds in IPOPT                               = 5.416\n",
      "\n",
      "EXIT: Optimal Solution Found.\n",
      "      solver  :   t_proc      (avg)   t_wall      (avg)    n_eval\n",
      "       nlp_f  |  29.67ms (216.60us)  19.04ms (138.98us)       137\n",
      "       nlp_g  | 106.48ms (777.25us)  67.44ms (492.25us)       137\n",
      "    nlp_grad  |  60.55ms ( 20.18ms)   3.80ms (  1.27ms)         3\n",
      "  nlp_grad_f  |  64.68ms (458.74us)  35.97ms (255.09us)       141\n",
      "  nlp_hess_l  | 384.10ms (  2.89ms)  23.95ms (180.09us)       133\n",
      "   nlp_jac_g  | 202.43ms (  1.44ms) 117.18ms (831.07us)       141\n",
      "       total  |  48.42 s ( 48.42 s)   5.42 s (  5.42 s)         1\n",
      "Year: 4, time: 5.425580739974976\n"
     ]
    },
    {
     "name": "stdout",
     "output_type": "stream",
     "text": [
      "This is Ipopt version 3.14.11, running with linear solver MUMPS 5.4.1.\n",
      "\n",
      "Number of nonzeros in equality constraint Jacobian...:    89696\n",
      "Number of nonzeros in inequality constraint Jacobian.:    19232\n",
      "Number of nonzeros in Lagrangian Hessian.............:    19200\n",
      "\n",
      "Total number of variables............................:    38496\n",
      "                     variables with only lower bounds:        0\n",
      "                variables with lower and upper bounds:        0\n",
      "                     variables with only upper bounds:        0\n",
      "Total number of equality constraints.................:    25696\n",
      "Total number of inequality constraints...............:    19232\n",
      "        inequality constraints with only lower bounds:    12800\n",
      "   inequality constraints with lower and upper bounds:     6432\n",
      "        inequality constraints with only upper bounds:        0\n",
      "\n",
      "iter    objective    inf_pr   inf_du lg(mu)  ||d||  lg(rg) alpha_du alpha_pr  ls\n",
      "   0 -1.2421860e+03 7.52e+00 1.00e-03  -1.0 0.00e+00    -  0.00e+00 0.00e+00   0\n"
     ]
    },
    {
     "name": "stdout",
     "output_type": "stream",
     "text": [
      "   1 -1.1925636e+03 7.51e+00 1.75e-02  -1.0 1.24e+06    -  5.22e-04 3.70e-04f  1"
     ]
    },
    {
     "name": "stdout",
     "output_type": "stream",
     "text": [
      "\n",
      "   2 -8.8309030e+02 7.50e+00 1.29e-02  -1.0 1.10e+06    -  1.11e-03 1.74e-03f  1\n",
      "   3 -9.0790441e+01 7.47e+00 3.67e-02  -1.0 8.56e+05    -  5.16e-03 3.69e-03f  1\n",
      "   4  4.8634452e+03 7.29e+00 1.08e-01  -1.0 5.57e+05    -  1.68e-02 2.39e-02f  1\n",
      "   5  2.2847612e+04 1.81e+01 1.12e+01  -1.0 2.65e+05    -  1.00e+00 7.19e-02f  1\n",
      "   6  9.6335707e+04 3.74e+01 3.88e-01  -1.0 3.30e+04    -  9.61e-01 1.00e+00f  1\n",
      "   7  2.5897792e+05 7.63e+01 1.00e-06  -1.0 4.66e+04    -  1.00e+00 1.00e+00f  1\n",
      "   8  2.6631720e+05 2.09e+00 1.00e-06  -1.0 7.58e+03    -  1.00e+00 1.00e+00h  1\n",
      "   9  2.6630948e+05 2.67e-03 1.00e-06  -1.0 2.61e+02    -  1.00e+00 1.00e+00h  1\n",
      "iter    objective    inf_pr   inf_du lg(mu)  ||d||  lg(rg) alpha_du alpha_pr  ls\n",
      "  10  6.7600563e+03 9.65e+01 1.08e-01  -2.5 5.33e+04    -  9.72e-01 1.00e+00f  1\n",
      "  11  7.4242976e+03 2.10e+01 2.83e-08  -2.5 2.49e+04    -  1.00e+00 1.00e+00h  1\n",
      "  12  6.5871768e+03 3.66e+00 2.83e-08  -2.5 1.04e+04    -  1.00e+00 1.00e+00h  1\n",
      "  13  6.5882513e+03 2.20e-01 2.83e-08  -2.5 2.54e+03    -  1.00e+00 1.00e+00h  1\n",
      "  14  6.5882473e+03 1.03e-03 2.83e-08  -2.5 1.74e+02    -  1.00e+00 1.00e+00h  1\n"
     ]
    },
    {
     "name": "stdout",
     "output_type": "stream",
     "text": [
      "  15 -6.3714336e+02 2.59e+00 5.20e-02  -3.8 8.73e+03    -  8.78e-01 9.99e-01f  1\n",
      "  16 -6.5442488e+02 4.72e-01 1.50e-09  -3.8 3.73e+03    -  1.00e+00 1.00e+00h  1\n",
      "  17 -7.7746628e+02 7.52e-02 1.50e-09  -3.8 1.49e+03    -  1.00e+00 1.00e+00h  1\n"
     ]
    },
    {
     "name": "stdout",
     "output_type": "stream",
     "text": [
      "  18 -7.7439729e+02 2.05e-03 1.50e-09  -3.8 2.45e+02    -  1.00e+00 1.00e+00h  1\n",
      "  19 -7.7437850e+02 1.70e-06 1.50e-09  -3.8 7.07e+00    -  1.00e+00 1.00e+00h  1\n",
      "iter    objective    inf_pr   inf_du lg(mu)  ||d||  lg(rg) alpha_du alpha_pr  ls\n",
      "  20 -1.1849324e+03 1.25e-01 8.62e-03  -5.7 2.10e+03    -  8.42e-01 9.14e-01f  1\n",
      "  21 -1.2487721e+03 4.29e-02 1.49e-02  -5.7 1.08e+03    -  7.88e-01 9.39e-01h  1\n",
      "  22 -1.2604618e+03 9.69e-03 1.27e-04  -5.7 5.34e+02    -  9.98e-01 1.00e+00h  1\n",
      "  23 -1.2634085e+03 2.10e-03 1.84e-11  -5.7 2.47e+02    -  1.00e+00 1.00e+00h  1\n"
     ]
    },
    {
     "name": "stdout",
     "output_type": "stream",
     "text": [
      "  24 -1.2633227e+03 1.16e-04 1.84e-11  -5.7 5.84e+01    -  1.00e+00 1.00e+00h  1\n",
      "  25 -1.2633218e+03 4.40e-07 1.84e-11  -5.7 3.60e+00    -  1.00e+00 1.00e+00h  1\n"
     ]
    },
    {
     "name": "stdout",
     "output_type": "stream",
     "text": [
      "  26 -1.2702986e+03 1.40e-03 5.25e-04  -8.6 2.33e+02    -  8.28e-01 8.64e-01f  1\n",
      "  27 -1.2713769e+03 6.74e-04 5.04e-04  -8.6 1.19e+02    -  7.03e-01 7.62e-01h  1\n",
      "  28 -1.2716638e+03 2.76e-04 3.33e-04  -8.6 4.27e+01    -  7.40e-01 8.00e-01h  1\n",
      "  29 -1.2717345e+03 9.59e-05 4.20e-05  -8.6 1.26e+01    -  9.08e-01 8.73e-01h  1\n",
      "iter    objective    inf_pr   inf_du lg(mu)  ||d||  lg(rg) alpha_du alpha_pr  ls\n",
      "  30 -1.2717519e+03 2.72e-05 9.54e-14  -8.6 1.18e+01    -  1.00e+00 1.00e+00f  1\n",
      "  31 -1.2717513e+03 4.72e-06 2.58e-14  -8.6 1.11e+01    -  1.00e+00 1.00e+00h  1\n",
      "  32 -1.2717513e+03 3.72e-07 2.58e-14  -8.6 3.28e+00    -  1.00e+00 1.00e+00h  1\n"
     ]
    },
    {
     "name": "stdout",
     "output_type": "stream",
     "text": [
      "  33 -1.2717513e+03 3.26e-09 2.58e-14  -8.6 3.05e-01    -  1.00e+00 1.00e+00h  1\n",
      "\n",
      "Number of Iterations....: 33\n",
      "\n",
      "                                   (scaled)                 (unscaled)\n",
      "Objective...............:  -3.0476376365822140e+00   -1.2717512963817794e+03\n",
      "Dual infeasibility......:   2.5757174171303632e-14    1.0748233074133391e-11\n",
      "Constraint violation....:   3.2625630043413322e-09    3.2625630043413322e-09\n",
      "Variable bound violation:   0.0000000000000000e+00    0.0000000000000000e+00\n",
      "Complementarity.........:   2.5067245817506975e-09    1.0460332285726202e-06\n",
      "Overall NLP error.......:   3.2625630043413322e-09    1.0460332285726202e-06\n",
      "\n",
      "\n",
      "Number of objective function evaluations             = 34\n",
      "Number of objective gradient evaluations             = 34\n",
      "Number of equality constraint evaluations            = 34\n",
      "Number of inequality constraint evaluations          = 34\n",
      "Number of equality constraint Jacobian evaluations   = 34\n",
      "Number of inequality constraint Jacobian evaluations = 34\n",
      "Number of Lagrangian Hessian evaluations             = 33\n",
      "Total seconds in IPOPT                               = 5.395\n",
      "\n",
      "EXIT: Optimal Solution Found.\n",
      "      solver  :   t_proc      (avg)   t_wall      (avg)    n_eval\n",
      "       nlp_f  |  36.36ms (212.64us)  23.77ms (138.98us)       171\n",
      "       nlp_g  | 130.23ms (761.61us)  84.12ms (491.93us)       171\n",
      "    nlp_grad  |  78.70ms ( 19.68ms)   4.94ms (  1.23ms)         4\n",
      "  nlp_grad_f  |  80.79ms (459.06us)  44.82ms (254.67us)       176\n",
      "  nlp_hess_l  | 469.57ms (  2.83ms)  29.29ms (176.46us)       166\n",
      "   nlp_jac_g  | 253.17ms (  1.44ms) 146.02ms (829.67us)       176\n",
      "       total  |  48.43 s ( 48.43 s)   5.40 s (  5.40 s)         1\n",
      "Year: 5, time: 5.409038305282593\n"
     ]
    },
    {
     "name": "stdout",
     "output_type": "stream",
     "text": [
      "This is Ipopt version 3.14.11, running with linear solver MUMPS 5.4.1.\n",
      "\n",
      "Number of nonzeros in equality constraint Jacobian...:    89696\n",
      "Number of nonzeros in inequality constraint Jacobian.:    19232\n",
      "Number of nonzeros in Lagrangian Hessian.............:    19200\n",
      "\n",
      "Total number of variables............................:    38496\n",
      "                     variables with only lower bounds:        0\n",
      "                variables with lower and upper bounds:        0\n",
      "                     variables with only upper bounds:        0\n",
      "Total number of equality constraints.................:    25696\n",
      "Total number of inequality constraints...............:    19232\n",
      "        inequality constraints with only lower bounds:    12800\n",
      "   inequality constraints with lower and upper bounds:     6432\n",
      "        inequality constraints with only upper bounds:        0\n",
      "\n",
      "iter    objective    inf_pr   inf_du lg(mu)  ||d||  lg(rg) alpha_du alpha_pr  ls\n",
      "   0 -1.2717513e+03 7.39e+00 1.00e-03  -1.0 0.00e+00    -  0.00e+00 0.00e+00   0\n"
     ]
    },
    {
     "name": "stdout",
     "output_type": "stream",
     "text": [
      "   1 -1.2219387e+03 7.38e+00 1.48e-02  -1.0 1.24e+06    -  5.02e-04 3.73e-04f  1"
     ]
    },
    {
     "name": "stdout",
     "output_type": "stream",
     "text": [
      "\n",
      "   2 -9.2019953e+02 7.37e+00 1.22e-02  -1.0 1.10e+06    -  1.06e-03 1.68e-03f  1\n",
      "   3 -1.6178363e+02 7.35e+00 1.26e-02  -1.0 8.65e+05    -  3.75e-03 3.52e-03f  1\n",
      "   4  6.1444005e+03 9.78e+00 2.18e-01  -1.0 5.96e+05    -  1.61e-02 2.87e-02f  1\n",
      "   5  1.8127542e+04 1.34e+01 1.20e+01  -1.0 2.47e+05    -  1.00e+00 4.41e-02f  1\n",
      "   6  8.7577265e+04 4.48e+01 6.57e-01  -1.0 3.61e+04    -  9.38e-01 1.00e+00f  1\n",
      "   7  2.5539708e+05 8.02e+01 1.00e-06  -1.0 4.75e+04    -  1.00e+00 1.00e+00f  1\n",
      "Exception of type: IpoptException in file \"Unknown File\" at line -1:\n",
      " Exception message: Unknown Exception caught in Ipopt\n",
      "      solver  :   t_proc      (avg)   t_wall      (avg)    n_eval\n",
      "       nlp_f  |  39.63ms (221.41us)  24.81ms (138.63us)       179\n",
      "       nlp_g  | 140.73ms (786.23us)  87.70ms (489.95us)       179\n",
      "    nlp_grad  |  97.33ms ( 19.47ms)   6.10ms (  1.22ms)         5\n",
      "  nlp_grad_f  |  90.41ms (488.69us)  47.05ms (254.33us)       185\n",
      "  nlp_hess_l  | 488.89ms (  2.81ms)  30.49ms (175.25us)       174\n",
      "   nlp_jac_g  | 281.71ms (  1.52ms) 152.81ms (826.00us)       185\n",
      "       total  |  11.89 s ( 11.89 s)   1.36 s (  1.36 s)         1\n"
     ]
    },
    {
     "name": "stderr",
     "output_type": "stream",
     "text": [
      "CasADi - 2024-01-16 17:05:16 WARNING(\"KeyboardInterruptException\") [.../casadi/interfaces/ipopt/ipopt_nlp.cpp:132]\n"
     ]
    },
    {
     "ename": "SystemError",
     "evalue": "<built-in function Function_call> returned a result with an error set",
     "output_type": "error",
     "traceback": [
      "\u001b[0;31m---------------------------------------------------------------------------\u001b[0m",
      "\u001b[0;31mKeyboardInterrupt\u001b[0m                         Traceback (most recent call last)",
      "\u001b[0;31mKeyboardInterrupt\u001b[0m: ",
      "\nThe above exception was the direct cause of the following exception:\n",
      "\u001b[0;31mSystemError\u001b[0m                               Traceback (most recent call last)",
      "File \u001b[0;32m~/.local/lib/python3.9/site-packages/casadi/casadi.py:9255\u001b[0m, in \u001b[0;36mDM.<lambda>\u001b[0;34m(self, name, value)\u001b[0m\n\u001b[1;32m   9254\u001b[0m     __swig_setmethods__\u001b[38;5;241m.\u001b[39mupdate(\u001b[38;5;28mgetattr\u001b[39m(_s, \u001b[38;5;124m'\u001b[39m\u001b[38;5;124m__swig_setmethods__\u001b[39m\u001b[38;5;124m'\u001b[39m, {}))\n\u001b[0;32m-> 9255\u001b[0m \u001b[38;5;21m__setattr__\u001b[39m \u001b[38;5;241m=\u001b[39m \u001b[38;5;28;01mlambda\u001b[39;00m \u001b[38;5;28mself\u001b[39m, name, value: \u001b[43m_swig_setattr\u001b[49m\u001b[43m(\u001b[49m\u001b[38;5;28;43mself\u001b[39;49m\u001b[43m,\u001b[49m\u001b[43m \u001b[49m\u001b[43mDM\u001b[49m\u001b[43m,\u001b[49m\u001b[43m \u001b[49m\u001b[43mname\u001b[49m\u001b[43m,\u001b[49m\u001b[43m \u001b[49m\u001b[43mvalue\u001b[49m\u001b[43m)\u001b[49m\n\u001b[1;32m   9256\u001b[0m __swig_getmethods__ \u001b[38;5;241m=\u001b[39m {}\n",
      "File \u001b[0;32m~/.local/lib/python3.9/site-packages/casadi/casadi.py:74\u001b[0m, in \u001b[0;36m_swig_setattr\u001b[0;34m(self, class_type, name, value)\u001b[0m\n\u001b[1;32m     73\u001b[0m \u001b[38;5;28;01mdef\u001b[39;00m \u001b[38;5;21m_swig_setattr\u001b[39m(\u001b[38;5;28mself\u001b[39m, class_type, name, value):\n\u001b[0;32m---> 74\u001b[0m     \u001b[38;5;28;01mreturn\u001b[39;00m \u001b[43m_swig_setattr_nondynamic\u001b[49m\u001b[43m(\u001b[49m\u001b[38;5;28;43mself\u001b[39;49m\u001b[43m,\u001b[49m\u001b[43m \u001b[49m\u001b[43mclass_type\u001b[49m\u001b[43m,\u001b[49m\u001b[43m \u001b[49m\u001b[43mname\u001b[49m\u001b[43m,\u001b[49m\u001b[43m \u001b[49m\u001b[43mvalue\u001b[49m\u001b[43m,\u001b[49m\u001b[43m \u001b[49m\u001b[38;5;241;43m0\u001b[39;49m\u001b[43m)\u001b[49m\n",
      "File \u001b[0;32m~/.local/lib/python3.9/site-packages/casadi/casadi.py:58\u001b[0m, in \u001b[0;36m_swig_setattr_nondynamic\u001b[0;34m(self, class_type, name, value, static)\u001b[0m\n\u001b[1;32m     57\u001b[0m \u001b[38;5;28;01mif\u001b[39;00m (name \u001b[38;5;241m==\u001b[39m \u001b[38;5;124m\"\u001b[39m\u001b[38;5;124mthis\u001b[39m\u001b[38;5;124m\"\u001b[39m):\n\u001b[0;32m---> 58\u001b[0m     \u001b[38;5;28;01mif\u001b[39;00m \u001b[38;5;28;43mtype\u001b[39;49m\u001b[43m(\u001b[49m\u001b[43mvalue\u001b[49m\u001b[43m)\u001b[49m\u001b[38;5;241m.\u001b[39m\u001b[38;5;18m__name__\u001b[39m \u001b[38;5;241m==\u001b[39m \u001b[38;5;124m'\u001b[39m\u001b[38;5;124mSwigPyObject\u001b[39m\u001b[38;5;124m'\u001b[39m:\n\u001b[1;32m     59\u001b[0m         \u001b[38;5;28mself\u001b[39m\u001b[38;5;241m.\u001b[39m\u001b[38;5;18m__dict__\u001b[39m[name] \u001b[38;5;241m=\u001b[39m value\n",
      "\u001b[0;31mSystemError\u001b[0m: <class 'type'> returned a result with an error set",
      "\nThe above exception was the direct cause of the following exception:\n",
      "\u001b[0;31mSystemError\u001b[0m                               Traceback (most recent call last)",
      "File \u001b[0;32m~/.local/lib/python3.9/site-packages/casadi/casadi.py:9255\u001b[0m, in \u001b[0;36mDM.<lambda>\u001b[0;34m(self, name, value)\u001b[0m\n\u001b[1;32m   9254\u001b[0m     __swig_setmethods__\u001b[38;5;241m.\u001b[39mupdate(\u001b[38;5;28mgetattr\u001b[39m(_s, \u001b[38;5;124m'\u001b[39m\u001b[38;5;124m__swig_setmethods__\u001b[39m\u001b[38;5;124m'\u001b[39m, {}))\n\u001b[0;32m-> 9255\u001b[0m \u001b[38;5;21m__setattr__\u001b[39m \u001b[38;5;241m=\u001b[39m \u001b[38;5;28;01mlambda\u001b[39;00m \u001b[38;5;28mself\u001b[39m, name, value: \u001b[43m_swig_setattr\u001b[49m\u001b[43m(\u001b[49m\u001b[38;5;28;43mself\u001b[39;49m\u001b[43m,\u001b[49m\u001b[43m \u001b[49m\u001b[43mDM\u001b[49m\u001b[43m,\u001b[49m\u001b[43m \u001b[49m\u001b[43mname\u001b[49m\u001b[43m,\u001b[49m\u001b[43m \u001b[49m\u001b[43mvalue\u001b[49m\u001b[43m)\u001b[49m\n\u001b[1;32m   9256\u001b[0m __swig_getmethods__ \u001b[38;5;241m=\u001b[39m {}\n",
      "File \u001b[0;32m~/.local/lib/python3.9/site-packages/casadi/casadi.py:74\u001b[0m, in \u001b[0;36m_swig_setattr\u001b[0;34m(self, class_type, name, value)\u001b[0m\n\u001b[1;32m     73\u001b[0m \u001b[38;5;28;01mdef\u001b[39;00m \u001b[38;5;21m_swig_setattr\u001b[39m(\u001b[38;5;28mself\u001b[39m, class_type, name, value):\n\u001b[0;32m---> 74\u001b[0m     \u001b[38;5;28;01mreturn\u001b[39;00m \u001b[43m_swig_setattr_nondynamic\u001b[49m\u001b[43m(\u001b[49m\u001b[38;5;28;43mself\u001b[39;49m\u001b[43m,\u001b[49m\u001b[43m \u001b[49m\u001b[43mclass_type\u001b[49m\u001b[43m,\u001b[49m\u001b[43m \u001b[49m\u001b[43mname\u001b[49m\u001b[43m,\u001b[49m\u001b[43m \u001b[49m\u001b[43mvalue\u001b[49m\u001b[43m,\u001b[49m\u001b[43m \u001b[49m\u001b[38;5;241;43m0\u001b[39;49m\u001b[43m)\u001b[49m\n",
      "File \u001b[0;32m~/.local/lib/python3.9/site-packages/casadi/casadi.py:58\u001b[0m, in \u001b[0;36m_swig_setattr_nondynamic\u001b[0;34m(self, class_type, name, value, static)\u001b[0m\n\u001b[1;32m     57\u001b[0m \u001b[38;5;28;01mif\u001b[39;00m (name \u001b[38;5;241m==\u001b[39m \u001b[38;5;124m\"\u001b[39m\u001b[38;5;124mthis\u001b[39m\u001b[38;5;124m\"\u001b[39m):\n\u001b[0;32m---> 58\u001b[0m     \u001b[38;5;28;01mif\u001b[39;00m \u001b[38;5;28;43mtype\u001b[39;49m\u001b[43m(\u001b[49m\u001b[43mvalue\u001b[49m\u001b[43m)\u001b[49m\u001b[38;5;241m.\u001b[39m\u001b[38;5;18m__name__\u001b[39m \u001b[38;5;241m==\u001b[39m \u001b[38;5;124m'\u001b[39m\u001b[38;5;124mSwigPyObject\u001b[39m\u001b[38;5;124m'\u001b[39m:\n\u001b[1;32m     59\u001b[0m         \u001b[38;5;28mself\u001b[39m\u001b[38;5;241m.\u001b[39m\u001b[38;5;18m__dict__\u001b[39m[name] \u001b[38;5;241m=\u001b[39m value\n",
      "\u001b[0;31mSystemError\u001b[0m: <class 'type'> returned a result with an error set",
      "\nThe above exception was the direct cause of the following exception:\n",
      "\u001b[0;31mSystemError\u001b[0m                               Traceback (most recent call last)",
      "File \u001b[0;32m~/.local/lib/python3.9/site-packages/casadi/casadi.py:9255\u001b[0m, in \u001b[0;36mDM.<lambda>\u001b[0;34m(self, name, value)\u001b[0m\n\u001b[1;32m   9254\u001b[0m     __swig_setmethods__\u001b[38;5;241m.\u001b[39mupdate(\u001b[38;5;28mgetattr\u001b[39m(_s, \u001b[38;5;124m'\u001b[39m\u001b[38;5;124m__swig_setmethods__\u001b[39m\u001b[38;5;124m'\u001b[39m, {}))\n\u001b[0;32m-> 9255\u001b[0m \u001b[38;5;21m__setattr__\u001b[39m \u001b[38;5;241m=\u001b[39m \u001b[38;5;28;01mlambda\u001b[39;00m \u001b[38;5;28mself\u001b[39m, name, value: \u001b[43m_swig_setattr\u001b[49m\u001b[43m(\u001b[49m\u001b[38;5;28;43mself\u001b[39;49m\u001b[43m,\u001b[49m\u001b[43m \u001b[49m\u001b[43mDM\u001b[49m\u001b[43m,\u001b[49m\u001b[43m \u001b[49m\u001b[43mname\u001b[49m\u001b[43m,\u001b[49m\u001b[43m \u001b[49m\u001b[43mvalue\u001b[49m\u001b[43m)\u001b[49m\n\u001b[1;32m   9256\u001b[0m __swig_getmethods__ \u001b[38;5;241m=\u001b[39m {}\n",
      "File \u001b[0;32m~/.local/lib/python3.9/site-packages/casadi/casadi.py:74\u001b[0m, in \u001b[0;36m_swig_setattr\u001b[0;34m(self, class_type, name, value)\u001b[0m\n\u001b[1;32m     73\u001b[0m \u001b[38;5;28;01mdef\u001b[39;00m \u001b[38;5;21m_swig_setattr\u001b[39m(\u001b[38;5;28mself\u001b[39m, class_type, name, value):\n\u001b[0;32m---> 74\u001b[0m     \u001b[38;5;28;01mreturn\u001b[39;00m \u001b[43m_swig_setattr_nondynamic\u001b[49m\u001b[43m(\u001b[49m\u001b[38;5;28;43mself\u001b[39;49m\u001b[43m,\u001b[49m\u001b[43m \u001b[49m\u001b[43mclass_type\u001b[49m\u001b[43m,\u001b[49m\u001b[43m \u001b[49m\u001b[43mname\u001b[49m\u001b[43m,\u001b[49m\u001b[43m \u001b[49m\u001b[43mvalue\u001b[49m\u001b[43m,\u001b[49m\u001b[43m \u001b[49m\u001b[38;5;241;43m0\u001b[39;49m\u001b[43m)\u001b[49m\n",
      "File \u001b[0;32m~/.local/lib/python3.9/site-packages/casadi/casadi.py:58\u001b[0m, in \u001b[0;36m_swig_setattr_nondynamic\u001b[0;34m(self, class_type, name, value, static)\u001b[0m\n\u001b[1;32m     57\u001b[0m \u001b[38;5;28;01mif\u001b[39;00m (name \u001b[38;5;241m==\u001b[39m \u001b[38;5;124m\"\u001b[39m\u001b[38;5;124mthis\u001b[39m\u001b[38;5;124m\"\u001b[39m):\n\u001b[0;32m---> 58\u001b[0m     \u001b[38;5;28;01mif\u001b[39;00m \u001b[38;5;28;43mtype\u001b[39;49m\u001b[43m(\u001b[49m\u001b[43mvalue\u001b[49m\u001b[43m)\u001b[49m\u001b[38;5;241m.\u001b[39m\u001b[38;5;18m__name__\u001b[39m \u001b[38;5;241m==\u001b[39m \u001b[38;5;124m'\u001b[39m\u001b[38;5;124mSwigPyObject\u001b[39m\u001b[38;5;124m'\u001b[39m:\n\u001b[1;32m     59\u001b[0m         \u001b[38;5;28mself\u001b[39m\u001b[38;5;241m.\u001b[39m\u001b[38;5;18m__dict__\u001b[39m[name] \u001b[38;5;241m=\u001b[39m value\n",
      "\u001b[0;31mSystemError\u001b[0m: <class 'type'> returned a result with an error set",
      "\nThe above exception was the direct cause of the following exception:\n",
      "\u001b[0;31mSystemError\u001b[0m                               Traceback (most recent call last)",
      "File \u001b[0;32m~/.local/lib/python3.9/site-packages/casadi/casadi.py:9255\u001b[0m, in \u001b[0;36mDM.<lambda>\u001b[0;34m(self, name, value)\u001b[0m\n\u001b[1;32m   9254\u001b[0m     __swig_setmethods__\u001b[38;5;241m.\u001b[39mupdate(\u001b[38;5;28mgetattr\u001b[39m(_s, \u001b[38;5;124m'\u001b[39m\u001b[38;5;124m__swig_setmethods__\u001b[39m\u001b[38;5;124m'\u001b[39m, {}))\n\u001b[0;32m-> 9255\u001b[0m \u001b[38;5;21m__setattr__\u001b[39m \u001b[38;5;241m=\u001b[39m \u001b[38;5;28;01mlambda\u001b[39;00m \u001b[38;5;28mself\u001b[39m, name, value: \u001b[43m_swig_setattr\u001b[49m\u001b[43m(\u001b[49m\u001b[38;5;28;43mself\u001b[39;49m\u001b[43m,\u001b[49m\u001b[43m \u001b[49m\u001b[43mDM\u001b[49m\u001b[43m,\u001b[49m\u001b[43m \u001b[49m\u001b[43mname\u001b[49m\u001b[43m,\u001b[49m\u001b[43m \u001b[49m\u001b[43mvalue\u001b[49m\u001b[43m)\u001b[49m\n\u001b[1;32m   9256\u001b[0m __swig_getmethods__ \u001b[38;5;241m=\u001b[39m {}\n",
      "File \u001b[0;32m~/.local/lib/python3.9/site-packages/casadi/casadi.py:74\u001b[0m, in \u001b[0;36m_swig_setattr\u001b[0;34m(self, class_type, name, value)\u001b[0m\n\u001b[1;32m     73\u001b[0m \u001b[38;5;28;01mdef\u001b[39;00m \u001b[38;5;21m_swig_setattr\u001b[39m(\u001b[38;5;28mself\u001b[39m, class_type, name, value):\n\u001b[0;32m---> 74\u001b[0m     \u001b[38;5;28;01mreturn\u001b[39;00m \u001b[43m_swig_setattr_nondynamic\u001b[49m\u001b[43m(\u001b[49m\u001b[38;5;28;43mself\u001b[39;49m\u001b[43m,\u001b[49m\u001b[43m \u001b[49m\u001b[43mclass_type\u001b[49m\u001b[43m,\u001b[49m\u001b[43m \u001b[49m\u001b[43mname\u001b[49m\u001b[43m,\u001b[49m\u001b[43m \u001b[49m\u001b[43mvalue\u001b[49m\u001b[43m,\u001b[49m\u001b[43m \u001b[49m\u001b[38;5;241;43m0\u001b[39;49m\u001b[43m)\u001b[49m\n",
      "File \u001b[0;32m~/.local/lib/python3.9/site-packages/casadi/casadi.py:58\u001b[0m, in \u001b[0;36m_swig_setattr_nondynamic\u001b[0;34m(self, class_type, name, value, static)\u001b[0m\n\u001b[1;32m     57\u001b[0m \u001b[38;5;28;01mif\u001b[39;00m (name \u001b[38;5;241m==\u001b[39m \u001b[38;5;124m\"\u001b[39m\u001b[38;5;124mthis\u001b[39m\u001b[38;5;124m\"\u001b[39m):\n\u001b[0;32m---> 58\u001b[0m     \u001b[38;5;28;01mif\u001b[39;00m \u001b[38;5;28;43mtype\u001b[39;49m\u001b[43m(\u001b[49m\u001b[43mvalue\u001b[49m\u001b[43m)\u001b[49m\u001b[38;5;241m.\u001b[39m\u001b[38;5;18m__name__\u001b[39m \u001b[38;5;241m==\u001b[39m \u001b[38;5;124m'\u001b[39m\u001b[38;5;124mSwigPyObject\u001b[39m\u001b[38;5;124m'\u001b[39m:\n\u001b[1;32m     59\u001b[0m         \u001b[38;5;28mself\u001b[39m\u001b[38;5;241m.\u001b[39m\u001b[38;5;18m__dict__\u001b[39m[name] \u001b[38;5;241m=\u001b[39m value\n",
      "\u001b[0;31mSystemError\u001b[0m: <class 'type'> returned a result with an error set",
      "\nThe above exception was the direct cause of the following exception:\n",
      "\u001b[0;31mSystemError\u001b[0m                               Traceback (most recent call last)",
      "Input \u001b[0;32mIn [15]\u001b[0m, in \u001b[0;36m<cell line: 25>\u001b[0;34m()\u001b[0m\n\u001b[1;32m     30\u001b[0m current_x \u001b[38;5;241m=\u001b[39m F(current_x,um, up)\n\u001b[1;32m     31\u001b[0m \u001b[38;5;28;01mif\u001b[39;00m p_history[i\u001b[38;5;241m+\u001b[39m\u001b[38;5;241m1\u001b[39m] \u001b[38;5;241m==\u001b[39m Pa_2:\n\u001b[0;32m---> 32\u001b[0m     [up,um,x,lam] \u001b[38;5;241m=\u001b[39m \u001b[43mmpc_step_upper\u001b[49m\u001b[43m(\u001b[49m\u001b[43mcurrent_x\u001b[49m\u001b[43m,\u001b[49m\u001b[43mx\u001b[49m\u001b[43m,\u001b[49m\u001b[43mlam\u001b[49m\u001b[43m)\u001b[49m\n\u001b[1;32m     34\u001b[0m \u001b[38;5;28;01melif\u001b[39;00m p_history[i\u001b[38;5;241m+\u001b[39m\u001b[38;5;241m1\u001b[39m] \u001b[38;5;241m==\u001b[39m Pa_1:\n\u001b[1;32m     35\u001b[0m     [up,um,x,lam] \u001b[38;5;241m=\u001b[39m mpc_step_lower(current_x,x,lam)\n",
      "File \u001b[0;32m~/.local/lib/python3.9/site-packages/casadi/casadi.py:23363\u001b[0m, in \u001b[0;36mFunction.__call__\u001b[0;34m(self, *args, **kwargs)\u001b[0m\n\u001b[1;32m  23360\u001b[0m     \u001b[38;5;28;01mraise\u001b[39;00m \u001b[38;5;167;01mSyntaxError\u001b[39;00m(\u001b[38;5;124m'\u001b[39m\u001b[38;5;124mFunction evaluation requires all arguments to be named or none\u001b[39m\u001b[38;5;124m'\u001b[39m)\n\u001b[1;32m  23361\u001b[0m   \u001b[38;5;28;01mif\u001b[39;00m \u001b[38;5;28mlen\u001b[39m(args)\u001b[38;5;241m>\u001b[39m\u001b[38;5;241m0\u001b[39m:\n\u001b[1;32m  23362\u001b[0m \u001b[38;5;66;03m# Ordered inputs -> return tuple\u001b[39;00m\n\u001b[0;32m> 23363\u001b[0m     ret \u001b[38;5;241m=\u001b[39m \u001b[38;5;28;43mself\u001b[39;49m\u001b[38;5;241;43m.\u001b[39;49m\u001b[43mcall\u001b[49m\u001b[43m(\u001b[49m\u001b[43margs\u001b[49m\u001b[43m)\u001b[49m\n\u001b[1;32m  23364\u001b[0m     \u001b[38;5;28;01mif\u001b[39;00m \u001b[38;5;28mlen\u001b[39m(ret)\u001b[38;5;241m==\u001b[39m\u001b[38;5;241m0\u001b[39m:\n\u001b[1;32m  23365\u001b[0m       \u001b[38;5;28;01mreturn\u001b[39;00m \u001b[38;5;28;01mNone\u001b[39;00m\n",
      "File \u001b[0;32m~/.local/lib/python3.9/site-packages/casadi/casadi.py:20021\u001b[0m, in \u001b[0;36mFunction.call\u001b[0;34m(self, *args)\u001b[0m\n\u001b[1;32m  19850\u001b[0m \u001b[38;5;28;01mdef\u001b[39;00m \u001b[38;5;21mcall\u001b[39m(\u001b[38;5;28mself\u001b[39m, \u001b[38;5;241m*\u001b[39margs) \u001b[38;5;241m-\u001b[39m\u001b[38;5;241m>\u001b[39m \u001b[38;5;124m\"\u001b[39m\u001b[38;5;124mvoid\u001b[39m\u001b[38;5;124m\"\u001b[39m:\n\u001b[1;32m  19851\u001b[0m \u001b[38;5;250m    \u001b[39m\u001b[38;5;124;03m\"\"\"\u001b[39;00m\n\u001b[1;32m  19852\u001b[0m \u001b[38;5;124;03m      [INTERNAL] \u001b[39;00m\n\u001b[1;32m  19853\u001b[0m \n\u001b[0;32m   (...)\u001b[0m\n\u001b[1;32m  20019\u001b[0m \n\u001b[1;32m  20020\u001b[0m \u001b[38;5;124;03m    \"\"\"\u001b[39;00m\n\u001b[0;32m> 20021\u001b[0m     \u001b[38;5;28;01mreturn\u001b[39;00m \u001b[43m_casadi\u001b[49m\u001b[38;5;241;43m.\u001b[39;49m\u001b[43mFunction_call\u001b[49m\u001b[43m(\u001b[49m\u001b[38;5;28;43mself\u001b[39;49m\u001b[43m,\u001b[49m\u001b[43m \u001b[49m\u001b[38;5;241;43m*\u001b[39;49m\u001b[43margs\u001b[49m\u001b[43m)\u001b[49m\n",
      "\u001b[0;31mSystemError\u001b[0m: <built-in function Function_call> returned a result with an error set"
     ]
    }
   ],
   "source": [
    "# Taking the below price history as given markov series\n",
    "p_history  = np.array([Pa_2,Pa_2,Pa_2,Pa_2,Pa_2,Pa_2,Pa_2,Pa_2,Pa_2,Pa_2,Pa_1,Pa_1,Pa_1])\n",
    "\n",
    "## Optimization Time period\n",
    "nn = 12\n",
    "\n",
    "## Storing the results for state and controls over the whole optimization process\n",
    "x_history  = DM.zeros(n+2,nn+1)\n",
    "u_history  = DM.zeros(n,nn)\n",
    "\n",
    "um_history = DM.zeros(n,nn)\n",
    "up_history = DM.zeros(n,nn)\n",
    "\n",
    "up  = sol.value(U[0][0])\n",
    "um  = sol.value(V[0][0])\n",
    "\n",
    "x   = sol.value(opti.x)\n",
    "lam = sol.value(opti.lam_g)\n",
    "\n",
    "x_history[:,0] = current_x\n",
    "pre_price = Pa_2\n",
    "\n",
    "# Perform optimization 12 times\n",
    "t1 = time.time()\n",
    "for i in range(nn):\n",
    "    t0 = time.time()\n",
    "    u_history[:,i]  = up - um\n",
    "    um_history[:,i] = um\n",
    "    up_history[:,i] = up\n",
    "    current_x = F(current_x,um, up)\n",
    "    if p_history[i+1] == Pa_2:\n",
    "        [up,um,x,lam] = mpc_step_upper(current_x,x,lam)\n",
    "\n",
    "    elif p_history[i+1] == Pa_1:\n",
    "        [up,um,x,lam] = mpc_step_lower(current_x,x,lam)\n",
    "\n",
    "    x_history[:,i+1] = current_x\n",
    "    disp(f'Year: {i+1}, time: {time.time()-t0}')\n",
    "disp(f'Final, time: {time.time()-t1}')\n"
   ]
  },
  {
   "cell_type": "markdown",
   "metadata": {
    "id": "dnt7wwOnaBLg"
   },
   "source": [
    "## 3.3 Quantitative Results\n",
    "Below we plot the optimal lands faction for the argriculture as the time goes."
   ]
  },
  {
   "cell_type": "code",
   "execution_count": null,
   "metadata": {
    "colab": {
     "base_uri": "https://localhost:8080/",
     "height": 472
    },
    "id": "IqLJST0PMqvC",
    "outputId": "0b86ab21-fb28-4017-8ada-ffb350154daa"
   },
   "outputs": [
    {
     "data": {
      "image/png": "[encoded data removed]",
      "text/plain": [
       "<Figure size 640x480 with 1 Axes>"
      ]
     },
     "metadata": {},
     "output_type": "display_data"
    }
   ],
   "source": [
    "plt.plot(x_history[0:n,:].T/z̄)\n",
    "plt.xlabel('Year')\n",
    "plt.ylabel('Z/z̄')\n",
    "plt.title('Fraction of lands used for agriculture, Z/z̄')\n",
    "plt.show()"
   ]
  },
  {
   "cell_type": "code",
   "execution_count": null,
   "metadata": {
    "id": "eb9DGGwCfxb_"
   },
   "outputs": [],
   "source": []
  }
 ],
 "metadata": {
  "colab": {
   "provenance": []
  },
  "kernelspec": {
   "display_name": "Python 3",
   "name": "python3"
  },
  "language_info": {
   "codemirror_mode": {
    "name": "ipython",
    "version": 3
   },
   "file_extension": ".py",
   "mimetype": "text/x-python",
   "name": "python",
   "nbconvert_exporter": "python",
   "pygments_lexer": "ipython3",
   "version": "3.9.12"
  }
 },
 "nbformat": 4,
 "nbformat_minor": 0
}